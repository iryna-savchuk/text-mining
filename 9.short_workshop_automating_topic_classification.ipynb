{
 "cells": [
  {
   "cell_type": "code",
   "execution_count": 1,
   "id": "25838d1e",
   "metadata": {},
   "outputs": [],
   "source": [
    "# Importing Libraries\n",
    "import pandas as pd\n",
    "import numpy as np\n",
    "\n",
    "# Import matplotlib as plt\n",
    "import matplotlib.pyplot as plt\n",
    "import seaborn as sns\n",
    "\n",
    "# Packages for text pre-processing \n",
    "from sklearn.feature_extraction.text import CountVectorizer\n",
    "from sklearn.feature_extraction.text import TfidfTransformer\n",
    "\n",
    "# Package for splitting the input data\n",
    "from sklearn.model_selection import train_test_split\n",
    "\n",
    "# Metrics to evaluate model performance\n",
    "from sklearn.metrics import accuracy_score\n",
    "from sklearn.metrics import precision_score\n",
    "from sklearn.metrics import recall_score\n",
    "from sklearn.metrics import confusion_matrix\n",
    "from sklearn.metrics import ConfusionMatrixDisplay\n",
    "\n",
    "# Packages for building an ML model\n",
    "from sklearn.pipeline import Pipeline\n",
    "from sklearn.naive_bayes import GaussianNB"
   ]
  },
  {
   "cell_type": "code",
   "execution_count": 2,
   "id": "b8d526b3",
   "metadata": {},
   "outputs": [
    {
     "data": {
      "text/html": [
       "<div>\n",
       "<style scoped>\n",
       "    .dataframe tbody tr th:only-of-type {\n",
       "        vertical-align: middle;\n",
       "    }\n",
       "\n",
       "    .dataframe tbody tr th {\n",
       "        vertical-align: top;\n",
       "    }\n",
       "\n",
       "    .dataframe thead th {\n",
       "        text-align: right;\n",
       "    }\n",
       "</style>\n",
       "<table border=\"1\" class=\"dataframe\">\n",
       "  <thead>\n",
       "    <tr style=\"text-align: right;\">\n",
       "      <th></th>\n",
       "      <th>text</th>\n",
       "      <th>topic</th>\n",
       "    </tr>\n",
       "  </thead>\n",
       "  <tbody>\n",
       "    <tr>\n",
       "      <th>1591</th>\n",
       "      <td>What kind of promotions do you have at the mom...</td>\n",
       "      <td>Sales/Promotions</td>\n",
       "    </tr>\n",
       "    <tr>\n",
       "      <th>1193</th>\n",
       "      <td>How much will your standard shipping cost to s...</td>\n",
       "      <td>Shipping</td>\n",
       "    </tr>\n",
       "    <tr>\n",
       "      <th>3225</th>\n",
       "      <td>I think I'm going to get the Optimum Nutrition...</td>\n",
       "      <td>Returns &amp; Refunds</td>\n",
       "    </tr>\n",
       "    <tr>\n",
       "      <th>598</th>\n",
       "      <td>Do you have any methyl B-12 supplements I can ...</td>\n",
       "      <td>Product Availability</td>\n",
       "    </tr>\n",
       "    <tr>\n",
       "      <th>1186</th>\n",
       "      <td>Is there any restocking fee or processing fee ...</td>\n",
       "      <td>Returns &amp; Refunds</td>\n",
       "    </tr>\n",
       "    <tr>\n",
       "      <th>1133</th>\n",
       "      <td>I was wondering if the men's chinos (WEB ITEM:...</td>\n",
       "      <td>Product Specifications</td>\n",
       "    </tr>\n",
       "    <tr>\n",
       "      <th>713</th>\n",
       "      <td>I'm looking for a maroon men's blazer. I'd nee...</td>\n",
       "      <td>Product Availability</td>\n",
       "    </tr>\n",
       "  </tbody>\n",
       "</table>\n",
       "</div>"
      ],
      "text/plain": [
       "                                                   text  \\\n",
       "1591  What kind of promotions do you have at the mom...   \n",
       "1193  How much will your standard shipping cost to s...   \n",
       "3225  I think I'm going to get the Optimum Nutrition...   \n",
       "598   Do you have any methyl B-12 supplements I can ...   \n",
       "1186  Is there any restocking fee or processing fee ...   \n",
       "1133  I was wondering if the men's chinos (WEB ITEM:...   \n",
       "713   I'm looking for a maroon men's blazer. I'd nee...   \n",
       "\n",
       "                       topic  \n",
       "1591        Sales/Promotions  \n",
       "1193                Shipping  \n",
       "3225       Returns & Refunds  \n",
       "598     Product Availability  \n",
       "1186       Returns & Refunds  \n",
       "1133  Product Specifications  \n",
       "713     Product Availability  "
      ]
     },
     "execution_count": 2,
     "metadata": {},
     "output_type": "execute_result"
    }
   ],
   "source": [
    "# Dataset - E-commerce customer service questions and topics\n",
    "# https://github.com/sambit9238/Machine-Learning/blob/master/question_topic.csv\n",
    "df = pd.read_csv('./datasets/question_topic.csv', index_col=0, names=['text', 'topic'], header=0)\n",
    "\n",
    "df.sample(7)"
   ]
  },
  {
   "cell_type": "code",
   "execution_count": 3,
   "id": "8576755d",
   "metadata": {},
   "outputs": [
    {
     "data": {
      "text/plain": [
       "(5000, 2)"
      ]
     },
     "execution_count": 3,
     "metadata": {},
     "output_type": "execute_result"
    }
   ],
   "source": [
    "df.shape"
   ]
  },
  {
   "cell_type": "code",
   "execution_count": 4,
   "id": "6fb2da4d",
   "metadata": {},
   "outputs": [
    {
     "name": "stdout",
     "output_type": "stream",
     "text": [
      "When do you think I'd receive the SKU #: 089836185259 if I order it tomorrow and it's being shipped to Oakland, CA? Do you have an overnight shipping option?\n",
      ">>>>\n",
      "Shipping\n"
     ]
    }
   ],
   "source": [
    "print(df.text[100])\n",
    "print(\">>>>\")\n",
    "print(df.topic[100])"
   ]
  },
  {
   "cell_type": "code",
   "execution_count": 5,
   "id": "ed04a561",
   "metadata": {},
   "outputs": [
    {
     "data": {
      "text/plain": [
       "Product Specifications    839\n",
       "Product Availability      833\n",
       "Product Comparison        806\n",
       "Shipping                  799\n",
       "Returns & Refunds         768\n",
       "Sales/Promotions          505\n",
       "Omnichannel               450\n",
       "Name: topic, dtype: int64"
      ]
     },
     "execution_count": 5,
     "metadata": {},
     "output_type": "execute_result"
    }
   ],
   "source": [
    "df['topic'].value_counts() # all questions are related to 7 unique topics"
   ]
  },
  {
   "cell_type": "code",
   "execution_count": 6,
   "id": "5675b1cb",
   "metadata": {},
   "outputs": [
    {
     "data": {
      "text/html": [
       "<div>\n",
       "<style scoped>\n",
       "    .dataframe tbody tr th:only-of-type {\n",
       "        vertical-align: middle;\n",
       "    }\n",
       "\n",
       "    .dataframe tbody tr th {\n",
       "        vertical-align: top;\n",
       "    }\n",
       "\n",
       "    .dataframe thead th {\n",
       "        text-align: right;\n",
       "    }\n",
       "</style>\n",
       "<table border=\"1\" class=\"dataframe\">\n",
       "  <thead>\n",
       "    <tr style=\"text-align: right;\">\n",
       "      <th></th>\n",
       "      <th>text</th>\n",
       "      <th>topic</th>\n",
       "      <th>id</th>\n",
       "    </tr>\n",
       "  </thead>\n",
       "  <tbody>\n",
       "    <tr>\n",
       "      <th>0</th>\n",
       "      <td>Hi! If I sign up for your email list, can I se...</td>\n",
       "      <td>Sales/Promotions</td>\n",
       "      <td>0</td>\n",
       "    </tr>\n",
       "    <tr>\n",
       "      <th>1</th>\n",
       "      <td>I'm going to be out of the country for about a...</td>\n",
       "      <td>Shipping</td>\n",
       "      <td>1</td>\n",
       "    </tr>\n",
       "    <tr>\n",
       "      <th>2</th>\n",
       "      <td>I was wondering if you'd be able to overnight ...</td>\n",
       "      <td>Shipping</td>\n",
       "      <td>1</td>\n",
       "    </tr>\n",
       "    <tr>\n",
       "      <th>3</th>\n",
       "      <td>The Swingline electronic stapler (472555) look...</td>\n",
       "      <td>Shipping</td>\n",
       "      <td>1</td>\n",
       "    </tr>\n",
       "    <tr>\n",
       "      <th>4</th>\n",
       "      <td>I think this cosmetic bag would work great for...</td>\n",
       "      <td>Shipping</td>\n",
       "      <td>1</td>\n",
       "    </tr>\n",
       "    <tr>\n",
       "      <th>...</th>\n",
       "      <td>...</td>\n",
       "      <td>...</td>\n",
       "      <td>...</td>\n",
       "    </tr>\n",
       "    <tr>\n",
       "      <th>4995</th>\n",
       "      <td>Is there a Lululemon in Des Moines, IA? Are yo...</td>\n",
       "      <td>Omnichannel</td>\n",
       "      <td>4</td>\n",
       "    </tr>\n",
       "    <tr>\n",
       "      <th>4996</th>\n",
       "      <td>I want to buy either the Ellison recliner 5363...</td>\n",
       "      <td>Product Comparison</td>\n",
       "      <td>5</td>\n",
       "    </tr>\n",
       "    <tr>\n",
       "      <th>4997</th>\n",
       "      <td>I'm considering buying either the Liver care d...</td>\n",
       "      <td>Product Comparison</td>\n",
       "      <td>5</td>\n",
       "    </tr>\n",
       "    <tr>\n",
       "      <th>4998</th>\n",
       "      <td>I'm considering buying either the PecraClear d...</td>\n",
       "      <td>Product Comparison</td>\n",
       "      <td>5</td>\n",
       "    </tr>\n",
       "    <tr>\n",
       "      <th>4999</th>\n",
       "      <td>I'm considering buying either the women's deto...</td>\n",
       "      <td>Product Comparison</td>\n",
       "      <td>5</td>\n",
       "    </tr>\n",
       "  </tbody>\n",
       "</table>\n",
       "<p>5000 rows × 3 columns</p>\n",
       "</div>"
      ],
      "text/plain": [
       "                                                   text               topic  \\\n",
       "0     Hi! If I sign up for your email list, can I se...    Sales/Promotions   \n",
       "1     I'm going to be out of the country for about a...            Shipping   \n",
       "2     I was wondering if you'd be able to overnight ...            Shipping   \n",
       "3     The Swingline electronic stapler (472555) look...            Shipping   \n",
       "4     I think this cosmetic bag would work great for...            Shipping   \n",
       "...                                                 ...                 ...   \n",
       "4995  Is there a Lululemon in Des Moines, IA? Are yo...         Omnichannel   \n",
       "4996  I want to buy either the Ellison recliner 5363...  Product Comparison   \n",
       "4997  I'm considering buying either the Liver care d...  Product Comparison   \n",
       "4998  I'm considering buying either the PecraClear d...  Product Comparison   \n",
       "4999  I'm considering buying either the women's deto...  Product Comparison   \n",
       "\n",
       "      id  \n",
       "0      0  \n",
       "1      1  \n",
       "2      1  \n",
       "3      1  \n",
       "4      1  \n",
       "...   ..  \n",
       "4995   4  \n",
       "4996   5  \n",
       "4997   5  \n",
       "4998   5  \n",
       "4999   5  \n",
       "\n",
       "[5000 rows x 3 columns]"
      ]
     },
     "execution_count": 6,
     "metadata": {},
     "output_type": "execute_result"
    }
   ],
   "source": [
    "# Create a new column 'category_id' with encoded categories \n",
    "df['id'] = df['topic'].factorize()[0]\n",
    "df"
   ]
  },
  {
   "cell_type": "code",
   "execution_count": 7,
   "id": "641ee794",
   "metadata": {},
   "outputs": [
    {
     "data": {
      "text/html": [
       "<div>\n",
       "<style scoped>\n",
       "    .dataframe tbody tr th:only-of-type {\n",
       "        vertical-align: middle;\n",
       "    }\n",
       "\n",
       "    .dataframe tbody tr th {\n",
       "        vertical-align: top;\n",
       "    }\n",
       "\n",
       "    .dataframe thead th {\n",
       "        text-align: right;\n",
       "    }\n",
       "</style>\n",
       "<table border=\"1\" class=\"dataframe\">\n",
       "  <thead>\n",
       "    <tr style=\"text-align: right;\">\n",
       "      <th></th>\n",
       "      <th>topic</th>\n",
       "    </tr>\n",
       "  </thead>\n",
       "  <tbody>\n",
       "    <tr>\n",
       "      <th>0</th>\n",
       "      <td>Sales/Promotions</td>\n",
       "    </tr>\n",
       "    <tr>\n",
       "      <th>1</th>\n",
       "      <td>Shipping</td>\n",
       "    </tr>\n",
       "    <tr>\n",
       "      <th>2</th>\n",
       "      <td>Product Availability</td>\n",
       "    </tr>\n",
       "    <tr>\n",
       "      <th>3</th>\n",
       "      <td>Product Specifications</td>\n",
       "    </tr>\n",
       "    <tr>\n",
       "      <th>4</th>\n",
       "      <td>Omnichannel</td>\n",
       "    </tr>\n",
       "    <tr>\n",
       "      <th>5</th>\n",
       "      <td>Product Comparison</td>\n",
       "    </tr>\n",
       "    <tr>\n",
       "      <th>6</th>\n",
       "      <td>Returns &amp; Refunds</td>\n",
       "    </tr>\n",
       "  </tbody>\n",
       "</table>\n",
       "</div>"
      ],
      "text/plain": [
       "                    topic\n",
       "0        Sales/Promotions\n",
       "1                Shipping\n",
       "2    Product Availability\n",
       "3  Product Specifications\n",
       "4             Omnichannel\n",
       "5      Product Comparison\n",
       "6       Returns & Refunds"
      ]
     },
     "execution_count": 7,
     "metadata": {},
     "output_type": "execute_result"
    }
   ],
   "source": [
    "topic_to_id = df[['topic', 'id']].drop_duplicates(ignore_index=True)\n",
    "topic_to_id.drop(columns=['id'], inplace=True)\n",
    "topic_to_id"
   ]
  },
  {
   "cell_type": "code",
   "execution_count": 8,
   "id": "d362cf07",
   "metadata": {},
   "outputs": [],
   "source": [
    "X = df['text']\n",
    "y = df['id']"
   ]
  },
  {
   "cell_type": "code",
   "execution_count": 9,
   "id": "83c0d898",
   "metadata": {},
   "outputs": [
    {
     "data": {
      "text/plain": [
       "(5000, 29892)"
      ]
     },
     "execution_count": 9,
     "metadata": {},
     "output_type": "execute_result"
    }
   ],
   "source": [
    "count_vectorizer = CountVectorizer(ngram_range=(2,2))\n",
    "transformed_vector = count_vectorizer.fit_transform(X)\n",
    "transformed_vector.shape"
   ]
  },
  {
   "cell_type": "code",
   "execution_count": 10,
   "id": "99fbf38e",
   "metadata": {},
   "outputs": [
    {
     "data": {
      "text/plain": [
       "(5000, 29892)"
      ]
     },
     "execution_count": 10,
     "metadata": {},
     "output_type": "execute_result"
    }
   ],
   "source": [
    "tfidf_transformer = TfidfTransformer()\n",
    "tfidf_vector = tfidf_transformer.fit_transform(transformed_vector)\n",
    "tfidf_vector.shape"
   ]
  },
  {
   "cell_type": "code",
   "execution_count": 11,
   "id": "6cf4aff0",
   "metadata": {},
   "outputs": [
    {
     "data": {
      "text/plain": [
       "(5000, 29892)"
      ]
     },
     "execution_count": 11,
     "metadata": {},
     "output_type": "execute_result"
    }
   ],
   "source": [
    "X_dense = tfidf_vector.todense() # naive bayes requires the input be in a form of dense matrix\n",
    "X_dense.shape"
   ]
  },
  {
   "cell_type": "code",
   "execution_count": 12,
   "id": "df24b160",
   "metadata": {},
   "outputs": [
    {
     "data": {
      "text/plain": [
       "((4000, 29892), (1000, 29892))"
      ]
     },
     "execution_count": 12,
     "metadata": {},
     "output_type": "execute_result"
    }
   ],
   "source": [
    "X_train, X_test, y_train, y_test = train_test_split(X_dense, y, test_size=0.2)\n",
    "X_train.shape, X_test.shape"
   ]
  },
  {
   "cell_type": "code",
   "execution_count": 13,
   "id": "56f648a6",
   "metadata": {},
   "outputs": [],
   "source": [
    "# helper function\n",
    "def summarize_classification(y_test, y_pred, avg_method='weighted'):\n",
    "    acc = accuracy_score(y_test, y_pred, normalize=True)\n",
    "    num_acc = accuracy_score(y_test, y_pred, normalize=False)\n",
    "    precision = precision_score(y_test, y_pred, average=avg_method) \n",
    "    recall = recall_score(y_test, y_pred, average=avg_method)\n",
    "    cm = confusion_matrix(y_test, y_pred)\n",
    "    \n",
    "    print('Length of the testing data: ', len(y_test))\n",
    "    print('Accuracy count: ', num_acc)\n",
    "    print('Accuracy score: ', acc)\n",
    "    print('Precision score: ', precision)\n",
    "    print('Recall score: ', recall)\n",
    "    #cm_display = ConfusionMatrixDisplay(cm).plot()\n",
    "    \n",
    "    sns.heatmap(cm, annot=True, cmap=\"Blues\", fmt='d',\n",
    "                xticklabels=topic_to_id.topic.values, \n",
    "                yticklabels=topic_to_id.topic.values)\n",
    "    \n",
    "    plt.ylabel('Actual')\n",
    "    plt.xlabel('Predicted')\n",
    "    plt.title(\"CONFUSION MATRIX\", size=16);"
   ]
  },
  {
   "cell_type": "code",
   "execution_count": 14,
   "id": "47207b1e",
   "metadata": {},
   "outputs": [],
   "source": [
    "clf = GaussianNB().fit(np.array(X_train), y_train)"
   ]
  },
  {
   "cell_type": "code",
   "execution_count": 15,
   "id": "51618a68",
   "metadata": {},
   "outputs": [],
   "source": [
    "y_pred = clf.predict(np.array(X_test))"
   ]
  },
  {
   "cell_type": "code",
   "execution_count": 16,
   "id": "38b0e0dd",
   "metadata": {},
   "outputs": [
    {
     "data": {
      "text/html": [
       "<div>\n",
       "<style scoped>\n",
       "    .dataframe tbody tr th:only-of-type {\n",
       "        vertical-align: middle;\n",
       "    }\n",
       "\n",
       "    .dataframe tbody tr th {\n",
       "        vertical-align: top;\n",
       "    }\n",
       "\n",
       "    .dataframe thead th {\n",
       "        text-align: right;\n",
       "    }\n",
       "</style>\n",
       "<table border=\"1\" class=\"dataframe\">\n",
       "  <thead>\n",
       "    <tr style=\"text-align: right;\">\n",
       "      <th></th>\n",
       "      <th>y_test</th>\n",
       "      <th>y_pred</th>\n",
       "    </tr>\n",
       "  </thead>\n",
       "  <tbody>\n",
       "    <tr>\n",
       "      <th>820</th>\n",
       "      <td>0</td>\n",
       "      <td>0</td>\n",
       "    </tr>\n",
       "    <tr>\n",
       "      <th>323</th>\n",
       "      <td>3</td>\n",
       "      <td>3</td>\n",
       "    </tr>\n",
       "    <tr>\n",
       "      <th>963</th>\n",
       "      <td>6</td>\n",
       "      <td>6</td>\n",
       "    </tr>\n",
       "    <tr>\n",
       "      <th>718</th>\n",
       "      <td>3</td>\n",
       "      <td>5</td>\n",
       "    </tr>\n",
       "    <tr>\n",
       "      <th>449</th>\n",
       "      <td>1</td>\n",
       "      <td>1</td>\n",
       "    </tr>\n",
       "    <tr>\n",
       "      <th>87</th>\n",
       "      <td>1</td>\n",
       "      <td>1</td>\n",
       "    </tr>\n",
       "    <tr>\n",
       "      <th>542</th>\n",
       "      <td>0</td>\n",
       "      <td>0</td>\n",
       "    </tr>\n",
       "    <tr>\n",
       "      <th>171</th>\n",
       "      <td>5</td>\n",
       "      <td>5</td>\n",
       "    </tr>\n",
       "    <tr>\n",
       "      <th>200</th>\n",
       "      <td>1</td>\n",
       "      <td>1</td>\n",
       "    </tr>\n",
       "    <tr>\n",
       "      <th>379</th>\n",
       "      <td>5</td>\n",
       "      <td>5</td>\n",
       "    </tr>\n",
       "    <tr>\n",
       "      <th>850</th>\n",
       "      <td>2</td>\n",
       "      <td>2</td>\n",
       "    </tr>\n",
       "    <tr>\n",
       "      <th>146</th>\n",
       "      <td>3</td>\n",
       "      <td>3</td>\n",
       "    </tr>\n",
       "    <tr>\n",
       "      <th>791</th>\n",
       "      <td>0</td>\n",
       "      <td>2</td>\n",
       "    </tr>\n",
       "    <tr>\n",
       "      <th>38</th>\n",
       "      <td>0</td>\n",
       "      <td>0</td>\n",
       "    </tr>\n",
       "    <tr>\n",
       "      <th>786</th>\n",
       "      <td>6</td>\n",
       "      <td>6</td>\n",
       "    </tr>\n",
       "  </tbody>\n",
       "</table>\n",
       "</div>"
      ],
      "text/plain": [
       "     y_test  y_pred\n",
       "820       0       0\n",
       "323       3       3\n",
       "963       6       6\n",
       "718       3       5\n",
       "449       1       1\n",
       "87        1       1\n",
       "542       0       0\n",
       "171       5       5\n",
       "200       1       1\n",
       "379       5       5\n",
       "850       2       2\n",
       "146       3       3\n",
       "791       0       2\n",
       "38        0       0\n",
       "786       6       6"
      ]
     },
     "execution_count": 16,
     "metadata": {},
     "output_type": "execute_result"
    }
   ],
   "source": [
    "pred_results = pd.DataFrame({'y_test':pd.Series(np.array(y_test)),\n",
    "                            'y_pred':pd.Series(y_pred)})\n",
    "\n",
    "pred_results.sample(15)"
   ]
  },
  {
   "cell_type": "code",
   "execution_count": 17,
   "id": "80d02b75",
   "metadata": {},
   "outputs": [
    {
     "name": "stdout",
     "output_type": "stream",
     "text": [
      "Length of the testing data:  1000\n",
      "Accuracy count:  949\n",
      "Accuracy score:  0.949\n",
      "Precision score:  0.9493276504850218\n",
      "Recall score:  0.949\n"
     ]
    },
    {
     "data": {
      "image/png": "[encoded data removed]",
      "text/plain": [
       "<Figure size 432x288 with 2 Axes>"
      ]
     },
     "metadata": {
      "needs_background": "light"
     },
     "output_type": "display_data"
    }
   ],
   "source": [
    "summarize_classification(y_test, y_pred)"
   ]
  },
  {
   "cell_type": "code",
   "execution_count": 18,
   "id": "19322e5b",
   "metadata": {},
   "outputs": [],
   "source": [
    "new = [\"Hello! I have cancelled my order #4352 right after submission. How long will it take to get the refund?\",\n",
    "      \"Hi! I have referred my friend to your conpany. Ho to get referral bonus?\", \n",
    "      \"I am dissapoitedd with the quality of the product.\"]\n",
    "\n",
    "transformed_vector_new = count_vectorizer.transform(new)\n",
    "tfidf_vector_new = tfidf_transformer.transform(transformed_vector_new)"
   ]
  },
  {
   "cell_type": "code",
   "execution_count": 19,
   "id": "34b43109",
   "metadata": {},
   "outputs": [
    {
     "name": "stdout",
     "output_type": "stream",
     "text": [
      "[6 0 3]\n"
     ]
    }
   ],
   "source": [
    "new_dense = tfidf_vector_new.todense()\n",
    "\n",
    "y_pred_new = clf.predict(np.array(new_dense))\n",
    "print(y_pred_new)"
   ]
  },
  {
   "cell_type": "code",
   "execution_count": 20,
   "id": "1be2f7d5",
   "metadata": {},
   "outputs": [
    {
     "data": {
      "text/html": [
       "<div>\n",
       "<style scoped>\n",
       "    .dataframe tbody tr th:only-of-type {\n",
       "        vertical-align: middle;\n",
       "    }\n",
       "\n",
       "    .dataframe tbody tr th {\n",
       "        vertical-align: top;\n",
       "    }\n",
       "\n",
       "    .dataframe thead th {\n",
       "        text-align: right;\n",
       "    }\n",
       "</style>\n",
       "<table border=\"1\" class=\"dataframe\">\n",
       "  <thead>\n",
       "    <tr style=\"text-align: right;\">\n",
       "      <th></th>\n",
       "      <th>topic</th>\n",
       "    </tr>\n",
       "  </thead>\n",
       "  <tbody>\n",
       "    <tr>\n",
       "      <th>6</th>\n",
       "      <td>Returns &amp; Refunds</td>\n",
       "    </tr>\n",
       "    <tr>\n",
       "      <th>0</th>\n",
       "      <td>Sales/Promotions</td>\n",
       "    </tr>\n",
       "    <tr>\n",
       "      <th>3</th>\n",
       "      <td>Product Specifications</td>\n",
       "    </tr>\n",
       "  </tbody>\n",
       "</table>\n",
       "</div>"
      ],
      "text/plain": [
       "                    topic\n",
       "6       Returns & Refunds\n",
       "0        Sales/Promotions\n",
       "3  Product Specifications"
      ]
     },
     "execution_count": 20,
     "metadata": {},
     "output_type": "execute_result"
    }
   ],
   "source": [
    "topic_to_id.iloc[y_pred_new]"
   ]
  },
  {
   "cell_type": "code",
   "execution_count": 21,
   "id": "08270b6b",
   "metadata": {},
   "outputs": [],
   "source": [
    "def call_predict(complaint):\n",
    "    transformed_vector_new = count_vectorizer.transform(complaint)\n",
    "    tfidf_vector_new = tfidf_transformer.transform(transformed_vector_new)\n",
    "    new_dense = tfidf_vector_new.todense()\n",
    "    y_pred_new = clf.predict(np.array(new_dense))\n",
    "    return topic_to_id.iloc[y_pred_new] "
   ]
  },
  {
   "cell_type": "code",
   "execution_count": 22,
   "id": "cd1ad6b3",
   "metadata": {},
   "outputs": [],
   "source": [
    "complaint = [\"I am not satified with the queality of the dress. I'd like to claim refund.\"]"
   ]
  },
  {
   "cell_type": "code",
   "execution_count": 23,
   "id": "9cf9606b",
   "metadata": {},
   "outputs": [
    {
     "name": "stdout",
     "output_type": "stream",
     "text": [
      "['Returns & Refunds']\n"
     ]
    }
   ],
   "source": [
    "prediction = call_predict(complaint)\n",
    "print(prediction.topic.values)"
   ]
  }
 ],
 "metadata": {
  "kernelspec": {
   "display_name": "venv",
   "language": "python",
   "name": "venv"
  },
  "language_info": {
   "codemirror_mode": {
    "name": "ipython",
    "version": 3
   },
   "file_extension": ".py",
   "mimetype": "text/x-python",
   "name": "python",
   "nbconvert_exporter": "python",
   "pygments_lexer": "ipython3",
   "version": "3.8.9"
  }
 },
 "nbformat": 4,
 "nbformat_minor": 5
}
