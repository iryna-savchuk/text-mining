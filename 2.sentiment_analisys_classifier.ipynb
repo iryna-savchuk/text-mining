{
 "cells": [
  {
   "cell_type": "markdown",
   "id": "7e9d756a",
   "metadata": {},
   "source": [
    "## Naive Bayes classifier for Sentiment Analysis"
   ]
  },
  {
   "cell_type": "code",
   "execution_count": 44,
   "id": "13f79e11",
   "metadata": {},
   "outputs": [],
   "source": [
    "# Importing Libraries\n",
    "import pandas as pd\n",
    "import numpy as np\n",
    "import matplotlib as plt\n",
    "\n",
    "# Packages for text pre-processing \n",
    "from sklearn.feature_extraction.text import CountVectorizer\n",
    "from sklearn.feature_extraction.text import TfidfTransformer\n",
    "\n",
    "# Package for splitting the input data\n",
    "from sklearn.model_selection import train_test_split\n",
    "\n",
    "# Metrics to evaluate model performance\n",
    "from sklearn.metrics import accuracy_score\n",
    "from sklearn.metrics import precision_score\n",
    "from sklearn.metrics import recall_score\n",
    "from sklearn.metrics import confusion_matrix\n",
    "from sklearn.metrics import ConfusionMatrixDisplay\n",
    "\n",
    "# Packages for building an ML model\n",
    "from sklearn.naive_bayes import GaussianNB"
   ]
  },
  {
   "cell_type": "code",
   "execution_count": 43,
   "id": "4a378068",
   "metadata": {},
   "outputs": [],
   "source": [
    "!/Users/isavchuk/projects/text_mining/venv/bin/python3 -m pip install -q matplotlib"
   ]
  },
  {
   "cell_type": "markdown",
   "id": "4ab9198c",
   "metadata": {},
   "source": [
    "### Loading data"
   ]
  },
  {
   "cell_type": "code",
   "execution_count": 2,
   "id": "8c025ece",
   "metadata": {},
   "outputs": [
    {
     "data": {
      "text/html": [
       "<div>\n",
       "<style scoped>\n",
       "    .dataframe tbody tr th:only-of-type {\n",
       "        vertical-align: middle;\n",
       "    }\n",
       "\n",
       "    .dataframe tbody tr th {\n",
       "        vertical-align: top;\n",
       "    }\n",
       "\n",
       "    .dataframe thead th {\n",
       "        text-align: right;\n",
       "    }\n",
       "</style>\n",
       "<table border=\"1\" class=\"dataframe\">\n",
       "  <thead>\n",
       "    <tr style=\"text-align: right;\">\n",
       "      <th></th>\n",
       "      <th>review</th>\n",
       "      <th>sentiment</th>\n",
       "    </tr>\n",
       "  </thead>\n",
       "  <tbody>\n",
       "    <tr>\n",
       "      <th>0</th>\n",
       "      <td>One of the other reviewers has mentioned that ...</td>\n",
       "      <td>positive</td>\n",
       "    </tr>\n",
       "    <tr>\n",
       "      <th>1</th>\n",
       "      <td>A wonderful little production. &lt;br /&gt;&lt;br /&gt;The...</td>\n",
       "      <td>positive</td>\n",
       "    </tr>\n",
       "    <tr>\n",
       "      <th>2</th>\n",
       "      <td>I thought this was a wonderful way to spend ti...</td>\n",
       "      <td>positive</td>\n",
       "    </tr>\n",
       "    <tr>\n",
       "      <th>3</th>\n",
       "      <td>Basically there's a family where a little boy ...</td>\n",
       "      <td>negative</td>\n",
       "    </tr>\n",
       "    <tr>\n",
       "      <th>4</th>\n",
       "      <td>Petter Mattei's \"Love in the Time of Money\" is...</td>\n",
       "      <td>positive</td>\n",
       "    </tr>\n",
       "  </tbody>\n",
       "</table>\n",
       "</div>"
      ],
      "text/plain": [
       "                                              review sentiment\n",
       "0  One of the other reviewers has mentioned that ...  positive\n",
       "1  A wonderful little production. <br /><br />The...  positive\n",
       "2  I thought this was a wonderful way to spend ti...  positive\n",
       "3  Basically there's a family where a little boy ...  negative\n",
       "4  Petter Mattei's \"Love in the Time of Money\" is...  positive"
      ]
     },
     "execution_count": 2,
     "metadata": {},
     "output_type": "execute_result"
    }
   ],
   "source": [
    "# Dataset - IMDB movie reviews dataset from Kaggle\n",
    "# where each review tagged as positive or negative\n",
    "imdb_df = pd.read_csv('./datasets/IMDB Dataset.csv', encoding='ISO-8859-1')\n",
    "imdb_df.head()"
   ]
  },
  {
   "cell_type": "code",
   "execution_count": 3,
   "id": "068d899d",
   "metadata": {},
   "outputs": [
    {
     "data": {
      "text/plain": [
       "(50000, 2)"
      ]
     },
     "execution_count": 3,
     "metadata": {},
     "output_type": "execute_result"
    }
   ],
   "source": [
    "imdb_df.shape"
   ]
  },
  {
   "cell_type": "code",
   "execution_count": 5,
   "id": "1492060b",
   "metadata": {},
   "outputs": [
    {
     "data": {
      "text/html": [
       "<div>\n",
       "<style scoped>\n",
       "    .dataframe tbody tr th:only-of-type {\n",
       "        vertical-align: middle;\n",
       "    }\n",
       "\n",
       "    .dataframe tbody tr th {\n",
       "        vertical-align: top;\n",
       "    }\n",
       "\n",
       "    .dataframe thead th {\n",
       "        text-align: right;\n",
       "    }\n",
       "</style>\n",
       "<table border=\"1\" class=\"dataframe\">\n",
       "  <thead>\n",
       "    <tr style=\"text-align: right;\">\n",
       "      <th></th>\n",
       "      <th>review</th>\n",
       "      <th>sentiment</th>\n",
       "    </tr>\n",
       "  </thead>\n",
       "  <tbody>\n",
       "    <tr>\n",
       "      <th>count</th>\n",
       "      <td>10000</td>\n",
       "      <td>10000</td>\n",
       "    </tr>\n",
       "    <tr>\n",
       "      <th>unique</th>\n",
       "      <td>9982</td>\n",
       "      <td>2</td>\n",
       "    </tr>\n",
       "    <tr>\n",
       "      <th>top</th>\n",
       "      <td>Okay, you have:&lt;br /&gt;&lt;br /&gt;Penelope Keith as M...</td>\n",
       "      <td>positive</td>\n",
       "    </tr>\n",
       "    <tr>\n",
       "      <th>freq</th>\n",
       "      <td>2</td>\n",
       "      <td>5056</td>\n",
       "    </tr>\n",
       "  </tbody>\n",
       "</table>\n",
       "</div>"
      ],
      "text/plain": [
       "                                                   review sentiment\n",
       "count                                               10000     10000\n",
       "unique                                               9982         2\n",
       "top     Okay, you have:<br /><br />Penelope Keith as M...  positive\n",
       "freq                                                    2      5056"
      ]
     },
     "execution_count": 5,
     "metadata": {},
     "output_type": "execute_result"
    }
   ],
   "source": [
    "imdb_df = imdb_df.sample(10000, replace=False) # sampling data for quicker analysis\n",
    "imdb_df.describe()"
   ]
  },
  {
   "cell_type": "code",
   "execution_count": 6,
   "id": "7e5223a2",
   "metadata": {},
   "outputs": [],
   "source": [
    "X = imdb_df['review']\n",
    "y = imdb_df['sentiment']"
   ]
  },
  {
   "cell_type": "code",
   "execution_count": 7,
   "id": "1500e357",
   "metadata": {},
   "outputs": [
    {
     "data": {
      "text/plain": [
       "47420    The worst part of all is the poor scripting, l...\n",
       "29889    \"I remember waiting to be born...\" <br /><br /...\n",
       "9913     to start off, i'm easily pleased. i'm in no wa...\n",
       "8893     Wow, what can I say about this film? It's a lo...\n",
       "11648    I feel very generous giving this movie a 2 out...\n",
       "Name: review, dtype: object"
      ]
     },
     "execution_count": 7,
     "metadata": {},
     "output_type": "execute_result"
    }
   ],
   "source": [
    "X.head()"
   ]
  },
  {
   "cell_type": "code",
   "execution_count": 8,
   "id": "6b2921aa",
   "metadata": {},
   "outputs": [
    {
     "data": {
      "text/plain": [
       "47420    negative\n",
       "29889    negative\n",
       "9913     negative\n",
       "8893     negative\n",
       "11648    negative\n",
       "Name: sentiment, dtype: object"
      ]
     },
     "execution_count": 8,
     "metadata": {},
     "output_type": "execute_result"
    }
   ],
   "source": [
    "y.head()"
   ]
  },
  {
   "cell_type": "markdown",
   "id": "b4337eb4",
   "metadata": {},
   "source": [
    "### Building Numeric Features out of Text data"
   ]
  },
  {
   "cell_type": "code",
   "execution_count": 9,
   "id": "29c6e01c",
   "metadata": {},
   "outputs": [
    {
     "data": {
      "text/plain": [
       "(10000, 52848)"
      ]
     },
     "execution_count": 9,
     "metadata": {},
     "output_type": "execute_result"
    }
   ],
   "source": [
    "count_vectorizer = CountVectorizer()\n",
    "transformed_vector = count_vectorizer.fit_transform(X)\n",
    "transformed_vector.shape"
   ]
  },
  {
   "cell_type": "code",
   "execution_count": 13,
   "id": "c9e4430a",
   "metadata": {},
   "outputs": [
    {
     "name": "stdout",
     "output_type": "stream",
     "text": [
      "  (0, 46957)\t5\n",
      "  (0, 52092)\t1\n",
      "  (0, 34206)\t1\n",
      "  (0, 32901)\t2\n",
      "  (0, 1799)\t1\n",
      "  (0, 24510)\t3\n",
      "  (0, 35860)\t1\n",
      "  (0, 41190)\t1\n",
      "  (0, 26864)\t1\n",
      "  (0, 47508)\t2\n",
      "  (0, 45574)\t1\n",
      "  (0, 1057)\t1\n",
      "  (0, 6096)\t10\n",
      "  (0, 14261)\t2\n",
      "  (0, 8137)\t2\n",
      "  (0, 24085)\t1\n",
      "  (0, 38805)\t1\n",
      "  (0, 2224)\t4\n",
      "  (0, 2415)\t2\n",
      "  (0, 21952)\t1\n",
      "  (0, 21226)\t2\n",
      "  (0, 16666)\t1\n",
      "  (0, 29113)\t1\n",
      "  (0, 22185)\t1\n",
      "  (0, 22740)\t2\n",
      "  :\t:\n",
      "  (0, 19898)\t1\n",
      "  (0, 28315)\t1\n",
      "  (0, 4917)\t1\n",
      "  (0, 24581)\t1\n",
      "  (0, 18749)\t1\n",
      "  (0, 51528)\t1\n",
      "  (0, 11916)\t1\n",
      "  (0, 19391)\t1\n",
      "  (0, 47095)\t1\n",
      "  (0, 42614)\t1\n",
      "  (0, 4562)\t1\n",
      "  (0, 43585)\t1\n",
      "  (0, 33639)\t1\n",
      "  (0, 32537)\t1\n",
      "  (0, 2649)\t1\n",
      "  (0, 37811)\t1\n",
      "  (0, 26505)\t1\n",
      "  (0, 4155)\t1\n",
      "  (0, 51045)\t1\n",
      "  (0, 33104)\t1\n",
      "  (0, 22980)\t1\n",
      "  (0, 52489)\t1\n",
      "  (0, 27346)\t1\n",
      "  (0, 33010)\t1\n",
      "  (0, 1334)\t1\n"
     ]
    }
   ],
   "source": [
    "print(transformed_vector[0]) # transformed_vector is a frequency term matrix, \n",
    "                             # shows how often a particular word occurs in a document"
   ]
  },
  {
   "cell_type": "code",
   "execution_count": 17,
   "id": "ae3076e0",
   "metadata": {},
   "outputs": [
    {
     "name": "stdout",
     "output_type": "stream",
     "text": [
      "  (0, 52489)\t0.034985180880408535\n",
      "  (0, 52092)\t0.07505252353933713\n",
      "  (0, 51966)\t0.12055159462692928\n",
      "  (0, 51528)\t0.07063830053960321\n",
      "  (0, 51045)\t0.11978677945726582\n",
      "  (0, 51004)\t0.03179027999690055\n",
      "  (0, 49858)\t0.09613935832897282\n",
      "  (0, 47508)\t0.04668361605819788\n",
      "  (0, 47095)\t0.06319179509553234\n",
      "  (0, 46957)\t0.11086940945467468\n",
      "  (0, 45574)\t0.14231175582231656\n",
      "  (0, 43585)\t0.09303588658704427\n",
      "  (0, 42614)\t0.07301291497907725\n",
      "  (0, 41647)\t0.09556989923898396\n",
      "  (0, 41457)\t0.09173902604549226\n",
      "  (0, 41190)\t0.1609406322181846\n",
      "  (0, 38805)\t0.1367863017407923\n",
      "  (0, 37811)\t0.07639464379047084\n",
      "  (0, 35860)\t0.08384468202390807\n",
      "  (0, 34206)\t0.06760219355477239\n",
      "  (0, 33639)\t0.13638287355785758\n",
      "  (0, 33604)\t0.14761399764051503\n",
      "  (0, 33104)\t0.0463703804691528\n",
      "  (0, 33010)\t0.06564396767353019\n",
      "  (0, 32901)\t0.04621844258664789\n",
      "  :\t:\n",
      "  (0, 22185)\t0.1463203175154438\n",
      "  (0, 21952)\t0.07962339782319584\n",
      "  (0, 21773)\t0.1006799229521215\n",
      "  (0, 21226)\t0.08387439110573525\n",
      "  (0, 19898)\t0.1621973296279027\n",
      "  (0, 19391)\t0.11978677945726582\n",
      "  (0, 18749)\t0.14394110993465814\n",
      "  (0, 16666)\t0.08632462847093939\n",
      "  (0, 16207)\t0.1940096073971846\n",
      "  (0, 14261)\t0.3329321725994177\n",
      "  (0, 11916)\t0.0849338891139794\n",
      "  (0, 8137)\t0.11608710994927404\n",
      "  (0, 7933)\t0.14128895656633797\n",
      "  (0, 6109)\t0.13804299915051038\n",
      "  (0, 6096)\t0.3381756508690483\n",
      "  (0, 4917)\t0.05813440724892911\n",
      "  (0, 4562)\t0.05109560151805943\n",
      "  (0, 4155)\t0.11019368426279477\n",
      "  (0, 3070)\t0.031749113714142\n",
      "  (0, 2649)\t0.09857724965558208\n",
      "  (0, 2415)\t0.194513970501651\n",
      "  (0, 2224)\t0.09115983606207743\n",
      "  (0, 1799)\t0.0363446577507673\n",
      "  (0, 1334)\t0.20924929317296925\n",
      "  (0, 1057)\t0.05515876272226431\n"
     ]
    }
   ],
   "source": [
    "tfidf_transformer = TfidfTransformer()\n",
    "tfidf_vector = tfidf_transformer.fit_transform(transformed_vector)\n",
    "\n",
    "print(tfidf_vector[0]) # take a look at a single document representation"
   ]
  },
  {
   "cell_type": "markdown",
   "id": "60afdfc5",
   "metadata": {},
   "source": [
    "### Classification "
   ]
  },
  {
   "cell_type": "code",
   "execution_count": 19,
   "id": "f1f3b996",
   "metadata": {},
   "outputs": [
    {
     "data": {
      "text/plain": [
       "((8000, 52848), (2000, 52848))"
      ]
     },
     "execution_count": 19,
     "metadata": {},
     "output_type": "execute_result"
    }
   ],
   "source": [
    "x_train, x_test, y_train, y_test = train_test_split(tfidf_vector, y, test_size=0.2)\n",
    "x_train.shape, x_test.shape"
   ]
  },
  {
   "cell_type": "code",
   "execution_count": 21,
   "id": "7b28e9b6",
   "metadata": {},
   "outputs": [
    {
     "data": {
      "text/plain": [
       "((8000,), (2000,))"
      ]
     },
     "execution_count": 21,
     "metadata": {},
     "output_type": "execute_result"
    }
   ],
   "source": [
    "y_train.shape, y_test.shape"
   ]
  },
  {
   "cell_type": "code",
   "execution_count": 47,
   "id": "6f58d261",
   "metadata": {},
   "outputs": [],
   "source": [
    "# helper function\n",
    "def summarize_classification(y_test, y_pred):\n",
    "    acc = accuracy_score(y_test, y_pred, normalize=True)\n",
    "    num_acc = accuracy_score(y_test, y_pred, normalize=False)\n",
    "    precision = precision_score(y_test, y_pred, average='weighted')\n",
    "    recall = recall_score(y_test, y_pred, average='weighted')\n",
    "    cm = confusion_matrix(y_test, y_pred)\n",
    "    \n",
    "    print('Length of the testing data: ', len(y_test))\n",
    "    print('Accuracy count: ', num_acc)\n",
    "    print('Accuracy score: ', acc)\n",
    "    print('Precision score: ', precision)\n",
    "    print('Recall score: ', recall)\n",
    "    #print('Confusion matrix:\\n', cm)\n",
    "    cm_display = ConfusionMatrixDisplay(cm).plot()"
   ]
  },
  {
   "cell_type": "code",
   "execution_count": 23,
   "id": "cc869e68",
   "metadata": {},
   "outputs": [],
   "source": [
    "clf = GaussianNB().fit(x_train.toarray(), y_train)"
   ]
  },
  {
   "cell_type": "code",
   "execution_count": 48,
   "id": "6afdf25c",
   "metadata": {},
   "outputs": [
    {
     "name": "stdout",
     "output_type": "stream",
     "text": [
      "Length of the testing data:  2000\n",
      "Accuracy count:  1271\n",
      "Accuracy score:  0.6355\n",
      "Precision score:  0.6361635406166498\n",
      "Recall score:  0.6355\n"
     ]
    },
    {
     "data": {
      "image/png": "[encoded data removed]",
      "text/plain": [
       "<Figure size 432x288 with 2 Axes>"
      ]
     },
     "metadata": {
      "needs_background": "light"
     },
     "output_type": "display_data"
    }
   ],
   "source": [
    "y_pred = clf.predict(x_test.toarray())\n",
    "summarize_classification(y_test, y_pred)"
   ]
  },
  {
   "cell_type": "code",
   "execution_count": null,
   "id": "ad8a3450",
   "metadata": {},
   "outputs": [],
   "source": []
  },
  {
   "cell_type": "code",
   "execution_count": null,
   "id": "c0990573",
   "metadata": {},
   "outputs": [],
   "source": []
  }
 ],
 "metadata": {
  "kernelspec": {
   "display_name": "venv",
   "language": "python",
   "name": "venv"
  },
  "language_info": {
   "codemirror_mode": {
    "name": "ipython",
    "version": 3
   },
   "file_extension": ".py",
   "mimetype": "text/x-python",
   "name": "python",
   "nbconvert_exporter": "python",
   "pygments_lexer": "ipython3",
   "version": "3.8.9"
  }
 },
 "nbformat": 4,
 "nbformat_minor": 5
}
