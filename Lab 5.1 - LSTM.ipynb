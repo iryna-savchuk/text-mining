{
 "cells": [
  {
   "cell_type": "markdown",
   "id": "e696f170",
   "metadata": {},
   "source": [
    "# Long Short Term Memory (LSTM)"
   ]
  },
  {
   "cell_type": "markdown",
   "id": "f76914be-e5a7-4de2-ba92-ddd351318022",
   "metadata": {
    "tags": []
   },
   "source": [
    "## Data import"
   ]
  },
  {
   "cell_type": "code",
   "execution_count": 1,
   "id": "e6a082fa-7ae8-4399-9e73-2debc0a9aabb",
   "metadata": {},
   "outputs": [],
   "source": [
    "from sklearn.model_selection import train_test_split\n",
    "import pandas as pd\n",
    "import re\n",
    "from nltk.corpus import stopwords\n",
    "from nltk.stem import SnowballStemmer\n",
    "from nltk.stem.wordnet import WordNetLemmatizer\n",
    "import numpy as np\n",
    "from sklearn.metrics import classification_report"
   ]
  },
  {
   "cell_type": "code",
   "execution_count": 2,
   "id": "141dd997-b003-4d1a-b7f6-46f0e1c1f6a9",
   "metadata": {},
   "outputs": [
    {
     "data": {
      "text/html": [
       "<div>\n",
       "<style scoped>\n",
       "    .dataframe tbody tr th:only-of-type {\n",
       "        vertical-align: middle;\n",
       "    }\n",
       "\n",
       "    .dataframe tbody tr th {\n",
       "        vertical-align: top;\n",
       "    }\n",
       "\n",
       "    .dataframe thead th {\n",
       "        text-align: right;\n",
       "    }\n",
       "</style>\n",
       "<table border=\"1\" class=\"dataframe\">\n",
       "  <thead>\n",
       "    <tr style=\"text-align: right;\">\n",
       "      <th></th>\n",
       "      <th>UserName</th>\n",
       "      <th>ScreenName</th>\n",
       "      <th>Location</th>\n",
       "      <th>TweetAt</th>\n",
       "      <th>OriginalTweet</th>\n",
       "      <th>Sentiment</th>\n",
       "    </tr>\n",
       "  </thead>\n",
       "  <tbody>\n",
       "    <tr>\n",
       "      <th>0</th>\n",
       "      <td>3799</td>\n",
       "      <td>48751</td>\n",
       "      <td>London</td>\n",
       "      <td>16-03-2020</td>\n",
       "      <td>@MeNyrbie @Phil_Gahan @Chrisitv https://t.co/iFz9FAn2Pa and https://t.co/xX6ghGFzCC and https://t.co/I2NlzdxNo8</td>\n",
       "      <td>Neutral</td>\n",
       "    </tr>\n",
       "    <tr>\n",
       "      <th>1</th>\n",
       "      <td>3800</td>\n",
       "      <td>48752</td>\n",
       "      <td>UK</td>\n",
       "      <td>16-03-2020</td>\n",
       "      <td>advice Talk to your neighbours family to exchange phone numbers create contact list with phone numbers of neighbours schools employer chemist GP set up online shopping accounts if poss adequate supplies of regular meds but not over order</td>\n",
       "      <td>Positive</td>\n",
       "    </tr>\n",
       "    <tr>\n",
       "      <th>2</th>\n",
       "      <td>3801</td>\n",
       "      <td>48753</td>\n",
       "      <td>Vagabonds</td>\n",
       "      <td>16-03-2020</td>\n",
       "      <td>Coronavirus Australia: Woolworths to give elderly, disabled dedicated shopping hours amid COVID-19 outbreak https://t.co/bInCA9Vp8P</td>\n",
       "      <td>Positive</td>\n",
       "    </tr>\n",
       "    <tr>\n",
       "      <th>3</th>\n",
       "      <td>3802</td>\n",
       "      <td>48754</td>\n",
       "      <td>NaN</td>\n",
       "      <td>16-03-2020</td>\n",
       "      <td>My food stock is not the only one which is empty...\\r\\r\\n\\r\\r\\nPLEASE, don't panic, THERE WILL BE ENOUGH FOOD FOR EVERYONE if you do not take more than you need. \\r\\r\\nStay calm, stay safe.\\r\\r\\n\\r\\r\\n#COVID19france #COVID_19 #COVID19 #coronavirus #confinement #Confinementotal #ConfinementGeneral https://t.co/zrlG0Z520j</td>\n",
       "      <td>Positive</td>\n",
       "    </tr>\n",
       "    <tr>\n",
       "      <th>4</th>\n",
       "      <td>3803</td>\n",
       "      <td>48755</td>\n",
       "      <td>NaN</td>\n",
       "      <td>16-03-2020</td>\n",
       "      <td>Me, ready to go at supermarket during the #COVID19 outbreak.\\r\\r\\n\\r\\r\\nNot because I'm paranoid, but because my food stock is litteraly empty. The #coronavirus is a serious thing, but please, don't panic. It causes shortage...\\r\\r\\n\\r\\r\\n#CoronavirusFrance #restezchezvous #StayAtHome #confinement https://t.co/usmuaLq72n</td>\n",
       "      <td>Extremely Negative</td>\n",
       "    </tr>\n",
       "    <tr>\n",
       "      <th>5</th>\n",
       "      <td>3804</td>\n",
       "      <td>48756</td>\n",
       "      <td>ÃT: 36.319708,-82.363649</td>\n",
       "      <td>16-03-2020</td>\n",
       "      <td>As news of the regionÂs first confirmed COVID-19 case came out of Sullivan County last week, people flocked to area stores to purchase cleaning supplies, hand sanitizer, food, toilet paper and other goods, @Tim_Dodson reports https://t.co/cfXch7a2lU</td>\n",
       "      <td>Positive</td>\n",
       "    </tr>\n",
       "    <tr>\n",
       "      <th>6</th>\n",
       "      <td>3805</td>\n",
       "      <td>48757</td>\n",
       "      <td>35.926541,-78.753267</td>\n",
       "      <td>16-03-2020</td>\n",
       "      <td>Cashier at grocery store was sharing his insights on #Covid_19 To prove his credibility he commented \"I'm in Civics class so I know what I'm talking about\". https://t.co/ieFDNeHgDO</td>\n",
       "      <td>Positive</td>\n",
       "    </tr>\n",
       "    <tr>\n",
       "      <th>7</th>\n",
       "      <td>3806</td>\n",
       "      <td>48758</td>\n",
       "      <td>Austria</td>\n",
       "      <td>16-03-2020</td>\n",
       "      <td>Was at the supermarket today. Didn't buy toilet paper. #Rebel\\r\\r\\n\\r\\r\\n#toiletpapercrisis #covid_19 https://t.co/eVXkQLIdAZ</td>\n",
       "      <td>Neutral</td>\n",
       "    </tr>\n",
       "    <tr>\n",
       "      <th>8</th>\n",
       "      <td>3807</td>\n",
       "      <td>48759</td>\n",
       "      <td>Atlanta, GA USA</td>\n",
       "      <td>16-03-2020</td>\n",
       "      <td>Due to COVID-19 our retail store and classroom in Atlanta will not be open for walk-in business or classes for the next two weeks, beginning Monday, March 16.  We will continue to process online and phone orders as normal! Thank you for your understanding! https://t.co/kw91zJ5O5i</td>\n",
       "      <td>Positive</td>\n",
       "    </tr>\n",
       "    <tr>\n",
       "      <th>9</th>\n",
       "      <td>3808</td>\n",
       "      <td>48760</td>\n",
       "      <td>BHAVNAGAR,GUJRAT</td>\n",
       "      <td>16-03-2020</td>\n",
       "      <td>For corona prevention,we should stop to buy things with the cash and should use online payment methods because corona can spread through the notes. Also we should prefer online shopping from our home. It's time to fight against COVID 19?. #govindia #IndiaFightsCorona</td>\n",
       "      <td>Negative</td>\n",
       "    </tr>\n",
       "  </tbody>\n",
       "</table>\n",
       "</div>"
      ],
      "text/plain": [
       "   UserName  ScreenName                   Location     TweetAt   \n",
       "0      3799       48751                     London  16-03-2020  \\\n",
       "1      3800       48752                         UK  16-03-2020   \n",
       "2      3801       48753                  Vagabonds  16-03-2020   \n",
       "3      3802       48754                        NaN  16-03-2020   \n",
       "4      3803       48755                        NaN  16-03-2020   \n",
       "5      3804       48756  ÃT: 36.319708,-82.363649  16-03-2020   \n",
       "6      3805       48757       35.926541,-78.753267  16-03-2020   \n",
       "7      3806       48758                    Austria  16-03-2020   \n",
       "8      3807       48759            Atlanta, GA USA  16-03-2020   \n",
       "9      3808       48760           BHAVNAGAR,GUJRAT  16-03-2020   \n",
       "\n",
       "                                                                                                                                                                                                                                                                                                                        OriginalTweet   \n",
       "0                                                                                                                                                                                                                     @MeNyrbie @Phil_Gahan @Chrisitv https://t.co/iFz9FAn2Pa and https://t.co/xX6ghGFzCC and https://t.co/I2NlzdxNo8  \\\n",
       "1                                                                                       advice Talk to your neighbours family to exchange phone numbers create contact list with phone numbers of neighbours schools employer chemist GP set up online shopping accounts if poss adequate supplies of regular meds but not over order   \n",
       "2                                                                                                                                                                                                 Coronavirus Australia: Woolworths to give elderly, disabled dedicated shopping hours amid COVID-19 outbreak https://t.co/bInCA9Vp8P   \n",
       "3   My food stock is not the only one which is empty...\\r\\r\\n\\r\\r\\nPLEASE, don't panic, THERE WILL BE ENOUGH FOOD FOR EVERYONE if you do not take more than you need. \\r\\r\\nStay calm, stay safe.\\r\\r\\n\\r\\r\\n#COVID19france #COVID_19 #COVID19 #coronavirus #confinement #Confinementotal #ConfinementGeneral https://t.co/zrlG0Z520j   \n",
       "4  Me, ready to go at supermarket during the #COVID19 outbreak.\\r\\r\\n\\r\\r\\nNot because I'm paranoid, but because my food stock is litteraly empty. The #coronavirus is a serious thing, but please, don't panic. It causes shortage...\\r\\r\\n\\r\\r\\n#CoronavirusFrance #restezchezvous #StayAtHome #confinement https://t.co/usmuaLq72n   \n",
       "5                                                                          As news of the regionÂs first confirmed COVID-19 case came out of Sullivan County last week, people flocked to area stores to purchase cleaning supplies, hand sanitizer, food, toilet paper and other goods, @Tim_Dodson reports https://t.co/cfXch7a2lU   \n",
       "6                                                                                                                                                Cashier at grocery store was sharing his insights on #Covid_19 To prove his credibility he commented \"I'm in Civics class so I know what I'm talking about\". https://t.co/ieFDNeHgDO   \n",
       "7                                                                                                                                                                                                       Was at the supermarket today. Didn't buy toilet paper. #Rebel\\r\\r\\n\\r\\r\\n#toiletpapercrisis #covid_19 https://t.co/eVXkQLIdAZ   \n",
       "8                                            Due to COVID-19 our retail store and classroom in Atlanta will not be open for walk-in business or classes for the next two weeks, beginning Monday, March 16.  We will continue to process online and phone orders as normal! Thank you for your understanding! https://t.co/kw91zJ5O5i   \n",
       "9                                                         For corona prevention,we should stop to buy things with the cash and should use online payment methods because corona can spread through the notes. Also we should prefer online shopping from our home. It's time to fight against COVID 19?. #govindia #IndiaFightsCorona   \n",
       "\n",
       "            Sentiment  \n",
       "0             Neutral  \n",
       "1            Positive  \n",
       "2            Positive  \n",
       "3            Positive  \n",
       "4  Extremely Negative  \n",
       "5            Positive  \n",
       "6            Positive  \n",
       "7             Neutral  \n",
       "8            Positive  \n",
       "9            Negative  "
      ]
     },
     "execution_count": 2,
     "metadata": {},
     "output_type": "execute_result"
    }
   ],
   "source": [
    "df = pd.read_csv(\"data/Corona_NLP.csv\", encoding='latin-1')\n",
    "pd.options.display.max_colwidth = 500\n",
    "df.head(10)"
   ]
  },
  {
   "cell_type": "code",
   "execution_count": 3,
   "id": "bfe64629-2ab0-455f-9e2d-751e48881ca2",
   "metadata": {},
   "outputs": [],
   "source": [
    "df  = df[['OriginalTweet', 'Sentiment']].head(10000)"
   ]
  },
  {
   "cell_type": "code",
   "execution_count": 4,
   "id": "10a0f5ad-776b-4db8-b8eb-80b94ab32c88",
   "metadata": {},
   "outputs": [
    {
     "data": {
      "text/plain": [
       "{'Extremely Negative', 'Extremely Positive', 'Negative', 'Neutral', 'Positive'}"
      ]
     },
     "execution_count": 4,
     "metadata": {},
     "output_type": "execute_result"
    }
   ],
   "source": [
    "set(df['Sentiment'].values)"
   ]
  },
  {
   "cell_type": "code",
   "execution_count": 5,
   "id": "3389065e-e182-4551-b579-742cf7fe4ec2",
   "metadata": {},
   "outputs": [],
   "source": [
    "df['LabelSentiment'] = df['Sentiment'].apply(lambda x: 1 if x in ['Extremely Positive', 'Positive', 'Neutral'] else 0)"
   ]
  },
  {
   "cell_type": "code",
   "execution_count": 6,
   "id": "6525f1de-4bcc-48c5-a3b6-0e1b0bc59653",
   "metadata": {},
   "outputs": [
    {
     "data": {
      "text/html": [
       "<div>\n",
       "<style scoped>\n",
       "    .dataframe tbody tr th:only-of-type {\n",
       "        vertical-align: middle;\n",
       "    }\n",
       "\n",
       "    .dataframe tbody tr th {\n",
       "        vertical-align: top;\n",
       "    }\n",
       "\n",
       "    .dataframe thead th {\n",
       "        text-align: right;\n",
       "    }\n",
       "</style>\n",
       "<table border=\"1\" class=\"dataframe\">\n",
       "  <thead>\n",
       "    <tr style=\"text-align: right;\">\n",
       "      <th></th>\n",
       "      <th>OriginalTweet</th>\n",
       "      <th>Sentiment</th>\n",
       "      <th>LabelSentiment</th>\n",
       "    </tr>\n",
       "  </thead>\n",
       "  <tbody>\n",
       "    <tr>\n",
       "      <th>0</th>\n",
       "      <td>@MeNyrbie @Phil_Gahan @Chrisitv https://t.co/iFz9FAn2Pa and https://t.co/xX6ghGFzCC and https://t.co/I2NlzdxNo8</td>\n",
       "      <td>Neutral</td>\n",
       "      <td>1</td>\n",
       "    </tr>\n",
       "    <tr>\n",
       "      <th>1</th>\n",
       "      <td>advice Talk to your neighbours family to exchange phone numbers create contact list with phone numbers of neighbours schools employer chemist GP set up online shopping accounts if poss adequate supplies of regular meds but not over order</td>\n",
       "      <td>Positive</td>\n",
       "      <td>1</td>\n",
       "    </tr>\n",
       "    <tr>\n",
       "      <th>2</th>\n",
       "      <td>Coronavirus Australia: Woolworths to give elderly, disabled dedicated shopping hours amid COVID-19 outbreak https://t.co/bInCA9Vp8P</td>\n",
       "      <td>Positive</td>\n",
       "      <td>1</td>\n",
       "    </tr>\n",
       "    <tr>\n",
       "      <th>3</th>\n",
       "      <td>My food stock is not the only one which is empty...\\r\\r\\n\\r\\r\\nPLEASE, don't panic, THERE WILL BE ENOUGH FOOD FOR EVERYONE if you do not take more than you need. \\r\\r\\nStay calm, stay safe.\\r\\r\\n\\r\\r\\n#COVID19france #COVID_19 #COVID19 #coronavirus #confinement #Confinementotal #ConfinementGeneral https://t.co/zrlG0Z520j</td>\n",
       "      <td>Positive</td>\n",
       "      <td>1</td>\n",
       "    </tr>\n",
       "    <tr>\n",
       "      <th>4</th>\n",
       "      <td>Me, ready to go at supermarket during the #COVID19 outbreak.\\r\\r\\n\\r\\r\\nNot because I'm paranoid, but because my food stock is litteraly empty. The #coronavirus is a serious thing, but please, don't panic. It causes shortage...\\r\\r\\n\\r\\r\\n#CoronavirusFrance #restezchezvous #StayAtHome #confinement https://t.co/usmuaLq72n</td>\n",
       "      <td>Extremely Negative</td>\n",
       "      <td>0</td>\n",
       "    </tr>\n",
       "  </tbody>\n",
       "</table>\n",
       "</div>"
      ],
      "text/plain": [
       "                                                                                                                                                                                                                                                                                                                        OriginalTweet   \n",
       "0                                                                                                                                                                                                                     @MeNyrbie @Phil_Gahan @Chrisitv https://t.co/iFz9FAn2Pa and https://t.co/xX6ghGFzCC and https://t.co/I2NlzdxNo8  \\\n",
       "1                                                                                       advice Talk to your neighbours family to exchange phone numbers create contact list with phone numbers of neighbours schools employer chemist GP set up online shopping accounts if poss adequate supplies of regular meds but not over order   \n",
       "2                                                                                                                                                                                                 Coronavirus Australia: Woolworths to give elderly, disabled dedicated shopping hours amid COVID-19 outbreak https://t.co/bInCA9Vp8P   \n",
       "3   My food stock is not the only one which is empty...\\r\\r\\n\\r\\r\\nPLEASE, don't panic, THERE WILL BE ENOUGH FOOD FOR EVERYONE if you do not take more than you need. \\r\\r\\nStay calm, stay safe.\\r\\r\\n\\r\\r\\n#COVID19france #COVID_19 #COVID19 #coronavirus #confinement #Confinementotal #ConfinementGeneral https://t.co/zrlG0Z520j   \n",
       "4  Me, ready to go at supermarket during the #COVID19 outbreak.\\r\\r\\n\\r\\r\\nNot because I'm paranoid, but because my food stock is litteraly empty. The #coronavirus is a serious thing, but please, don't panic. It causes shortage...\\r\\r\\n\\r\\r\\n#CoronavirusFrance #restezchezvous #StayAtHome #confinement https://t.co/usmuaLq72n   \n",
       "\n",
       "            Sentiment  LabelSentiment  \n",
       "0             Neutral               1  \n",
       "1            Positive               1  \n",
       "2            Positive               1  \n",
       "3            Positive               1  \n",
       "4  Extremely Negative               0  "
      ]
     },
     "execution_count": 6,
     "metadata": {},
     "output_type": "execute_result"
    }
   ],
   "source": [
    "df.head()"
   ]
  },
  {
   "cell_type": "code",
   "execution_count": 7,
   "id": "4fb0b73a-bc21-43ed-8b52-04cdde206df6",
   "metadata": {},
   "outputs": [
    {
     "data": {
      "text/plain": [
       "<Axes: >"
      ]
     },
     "execution_count": 7,
     "metadata": {},
     "output_type": "execute_result"
    },
    {
     "data": {
      "image/png": "[encoded data removed]",
      "text/plain": [
       "<Figure size 640x480 with 1 Axes>"
      ]
     },
     "metadata": {},
     "output_type": "display_data"
    }
   ],
   "source": [
    "df['LabelSentiment'].hist()"
   ]
  },
  {
   "cell_type": "markdown",
   "id": "b802fd6d-38b4-40f0-97ff-dd26e27592a2",
   "metadata": {},
   "source": [
    "## Train - Test split"
   ]
  },
  {
   "cell_type": "code",
   "execution_count": 8,
   "id": "2c2a0575-3b6a-466e-a3c1-33017e55cf29",
   "metadata": {},
   "outputs": [],
   "source": [
    "X_train, X_test, Y_train, Y_test = train_test_split(df['OriginalTweet'], df['LabelSentiment'], test_size=0.20, random_state=4)"
   ]
  },
  {
   "cell_type": "code",
   "execution_count": 9,
   "id": "c7e79d0d-9eaf-45bc-b03a-cd216258fe9a",
   "metadata": {},
   "outputs": [
    {
     "data": {
      "text/plain": [
       "(8000, 2000, 8000, 2000)"
      ]
     },
     "execution_count": 9,
     "metadata": {},
     "output_type": "execute_result"
    }
   ],
   "source": [
    "len(X_train), len(X_test), len(Y_train), len(Y_test)"
   ]
  },
  {
   "cell_type": "markdown",
   "id": "8f141246-507c-4b62-9f16-06386a215750",
   "metadata": {},
   "source": [
    "## Clean Text"
   ]
  },
  {
   "cell_type": "code",
   "execution_count": 10,
   "id": "2cab7730-e937-469d-af69-60e85843805e",
   "metadata": {},
   "outputs": [],
   "source": [
    "stop = set(stopwords.words('english'))\n",
    "stemmer = SnowballStemmer('english')\n",
    "lemma = WordNetLemmatizer()"
   ]
  },
  {
   "cell_type": "code",
   "execution_count": 11,
   "id": "773a19bf-9af5-44d0-ba57-bab7905d1a2c",
   "metadata": {},
   "outputs": [],
   "source": [
    "X_train_ = X_train.copy()"
   ]
  },
  {
   "cell_type": "code",
   "execution_count": 12,
   "id": "b6a81b3e-623b-47e0-bc94-02beda56c4c8",
   "metadata": {},
   "outputs": [],
   "source": [
    "from tqdm import tqdm\n",
    "def clean(text_list):\n",
    "    \n",
    "    updates = []\n",
    "    \n",
    "    for j in tqdm(text_list):\n",
    "        \n",
    "        text = j\n",
    "        \n",
    "        #LOWERCASE TEXT\n",
    "        text = text.lower()\n",
    "        \n",
    "        #REMOVE NUMERICAL DATA and PUNCTUATION\n",
    "        text = re.sub(\"[^a-zA-Z]\",\" \", text )\n",
    "        \n",
    "        #REMOVE STOPWORDS\n",
    "        text = \" \".join([word for word in text.split() if word not in stop])\n",
    "        \n",
    "        #Lemmatize\n",
    "        text = \" \".join(lemma.lemmatize(word) for word in text.split())\n",
    "            \n",
    "        updates.append(text)\n",
    "        \n",
    "    return updates"
   ]
  },
  {
   "cell_type": "code",
   "execution_count": 13,
   "id": "8ff0582b-0e69-43e4-8459-1b315154761b",
   "metadata": {},
   "outputs": [
    {
     "name": "stderr",
     "output_type": "stream",
     "text": [
      "100%|██████████| 8000/8000 [00:01<00:00, 5630.14it/s]\n"
     ]
    }
   ],
   "source": [
    "x_train = clean(X_train)"
   ]
  },
  {
   "cell_type": "code",
   "execution_count": 14,
   "id": "f28815b6-29d8-4e76-bb20-587310fc5b57",
   "metadata": {},
   "outputs": [
    {
     "name": "stderr",
     "output_type": "stream",
     "text": [
      "100%|██████████| 2000/2000 [00:00<00:00, 15163.08it/s]\n"
     ]
    }
   ],
   "source": [
    "x_test = clean(X_test)"
   ]
  },
  {
   "cell_type": "code",
   "execution_count": 15,
   "id": "3562ec54-cbad-46be-b088-4571d791dfc2",
   "metadata": {},
   "outputs": [],
   "source": [
    "y_train = Y_train.to_numpy()"
   ]
  },
  {
   "cell_type": "code",
   "execution_count": 16,
   "id": "f0e987c3-ec03-42ab-980a-7419841e90da",
   "metadata": {},
   "outputs": [],
   "source": [
    "y_test = Y_test.to_numpy()"
   ]
  },
  {
   "cell_type": "markdown",
   "id": "79cebcd4-48ac-460a-8c75-27784bf1b35c",
   "metadata": {},
   "source": [
    "## Feature Engineering (Word Embeddings)"
   ]
  },
  {
   "cell_type": "code",
   "execution_count": 17,
   "id": "fdb2dd80-3041-4276-b716-5cbd127a04d6",
   "metadata": {},
   "outputs": [],
   "source": [
    "#!pip install gensim\n",
    "import gensim.downloader"
   ]
  },
  {
   "cell_type": "code",
   "execution_count": 18,
   "id": "8a1ce462-1ce0-440e-9750-9ff27a08ab59",
   "metadata": {},
   "outputs": [
    {
     "name": "stdout",
     "output_type": "stream",
     "text": [
      "['fasttext-wiki-news-subwords-300', 'conceptnet-numberbatch-17-06-300', 'word2vec-ruscorpora-300', 'word2vec-google-news-300', 'glove-wiki-gigaword-50', 'glove-wiki-gigaword-100', 'glove-wiki-gigaword-200', 'glove-wiki-gigaword-300', 'glove-twitter-25', 'glove-twitter-50', 'glove-twitter-100', 'glove-twitter-200', '__testing_word2vec-matrix-synopsis']\n"
     ]
    }
   ],
   "source": [
    "print(list(gensim.downloader.info()['models'].keys()))"
   ]
  },
  {
   "cell_type": "code",
   "execution_count": 19,
   "id": "9e022368-7417-4ddd-8fe0-78a8d63fd1c8",
   "metadata": {},
   "outputs": [],
   "source": [
    "w2v = gensim.downloader.load('glove-twitter-100')"
   ]
  },
  {
   "cell_type": "code",
   "execution_count": 20,
   "id": "6ac8759d-43d6-4f1e-a4dd-a1180dfd0fd2",
   "metadata": {},
   "outputs": [],
   "source": [
    "def corpus2vec(corpus):\n",
    "    corpus_vec = []\n",
    "    for document in tqdm(corpus):\n",
    "        #get word vectors for each document\n",
    "        doc_vectors = []\n",
    "        for word in document.split():\n",
    "            if word in w2v.index_to_key:\n",
    "                doc_vectors.append(w2v.word_vec(word))         \n",
    "        corpus_vec.append(doc_vectors)\n",
    "    return corpus_vec"
   ]
  },
  {
   "cell_type": "code",
   "execution_count": 21,
   "id": "cb95ac7c-6919-41ec-885e-a59d65f585fb",
   "metadata": {},
   "outputs": [
    {
     "name": "stderr",
     "output_type": "stream",
     "text": [
      "/tmp/ipykernel_2267752/1283255324.py:8: DeprecationWarning: Call to deprecated `word_vec` (Use get_vector instead).\n",
      "  doc_vectors.append(w2v.word_vec(word))\n"
     ]
    }
   ],
   "source": [
    "x_train_vec = corpus2vec(x_train)"
   ]
  },
  {
   "cell_type": "code",
   "execution_count": 22,
   "id": "94a46290-5d5a-4a7d-8b01-bead1310ad16",
   "metadata": {},
   "outputs": [
    {
     "name": "stderr",
     "output_type": "stream",
     "text": [
      "/tmp/ipykernel_2267752/1283255324.py:8: DeprecationWarning: Call to deprecated `word_vec` (Use get_vector instead).\n",
      "  doc_vectors.append(w2v.word_vec(word))\n"
     ]
    }
   ],
   "source": [
    "x_test_vec = corpus2vec(x_test)"
   ]
  },
  {
   "cell_type": "markdown",
   "id": "9d943bc2-693e-4450-b8f8-740a6dbc05de",
   "metadata": {},
   "source": [
    "## Pad Sequences"
   ]
  },
  {
   "cell_type": "code",
   "execution_count": 26,
   "id": "68b25d0d-fa81-460d-9744-076a48433028",
   "metadata": {},
   "outputs": [],
   "source": [
    "#!pip install tensorflow\n",
    "import tensorflow as tf\n",
    "tf.config.run_functions_eagerly(True)\n",
    "tf.data.experimental.enable_debug_mode()"
   ]
  },
  {
   "cell_type": "code",
   "execution_count": 27,
   "id": "7b4bb030-563e-4830-8e73-b522d26e61f1",
   "metadata": {},
   "outputs": [],
   "source": [
    "from keras.preprocessing.sequence import pad_sequences"
   ]
  },
  {
   "cell_type": "code",
   "execution_count": 28,
   "id": "3168bb8c-4edf-4225-8054-5cc1e8fb43b0",
   "metadata": {},
   "outputs": [
    {
     "data": {
      "text/plain": [
       "48"
      ]
     },
     "execution_count": 28,
     "metadata": {},
     "output_type": "execute_result"
    }
   ],
   "source": [
    "train_len = []\n",
    "for i in x_train_vec:\n",
    "    train_len.append(len(i))\n",
    "max(train_len)"
   ]
  },
  {
   "cell_type": "code",
   "execution_count": 29,
   "id": "96881878-d361-4617-8311-d95aad542f43",
   "metadata": {},
   "outputs": [],
   "source": [
    "#train_len"
   ]
  },
  {
   "cell_type": "code",
   "execution_count": 30,
   "id": "5e0596b8-cc33-4940-9cea-e246a65fbc3a",
   "metadata": {},
   "outputs": [],
   "source": [
    "X_pad = pad_sequences(maxlen=48,sequences=x_train_vec, padding=\"post\", dtype='float64')"
   ]
  },
  {
   "cell_type": "code",
   "execution_count": 31,
   "id": "381bca41-4cb0-4d96-a0a4-2fac8a2fc407",
   "metadata": {},
   "outputs": [
    {
     "name": "stderr",
     "output_type": "stream",
     "text": [
      "2022-03-21 16:59:46.266496: I tensorflow/core/platform/cpu_feature_guard.cc:151] This TensorFlow binary is optimized with oneAPI Deep Neural Network Library (oneDNN) to use the following CPU instructions in performance-critical operations:  AVX2 FMA\n",
      "To enable them in other operations, rebuild TensorFlow with the appropriate compiler flags.\n",
      "2022-03-21 16:59:46.634629: I tensorflow/core/common_runtime/gpu/gpu_device.cc:1525] Created device /job:localhost/replica:0/task:0/device:GPU:0 with 4654 MB memory:  -> device: 0, name: NVIDIA GeForce GTX 1660 Ti, pci bus id: 0000:07:00.0, compute capability: 7.5\n"
     ]
    }
   ],
   "source": [
    "X = tf.convert_to_tensor(X_pad, dtype='float32')"
   ]
  },
  {
   "cell_type": "code",
   "execution_count": 32,
   "id": "006467d9-56d3-4290-9786-73818b3aaed9",
   "metadata": {},
   "outputs": [
    {
     "data": {
      "text/plain": [
       "TensorShape([8000, 48, 100])"
      ]
     },
     "execution_count": 32,
     "metadata": {},
     "output_type": "execute_result"
    }
   ],
   "source": [
    "X.shape"
   ]
  },
  {
   "cell_type": "code",
   "execution_count": 33,
   "id": "d5671f10-72e8-43f0-9fe6-8442510f6ed3",
   "metadata": {},
   "outputs": [],
   "source": [
    "y = tf.one_hot(y_train, depth=2) # we predict only 0 or 2 for sentiment, so depth=2"
   ]
  },
  {
   "cell_type": "markdown",
   "id": "08c89fa8-52e8-48c9-80ab-868b6fd762c2",
   "metadata": {},
   "source": [
    "## Model Initiation and Train (LSTM)"
   ]
  },
  {
   "cell_type": "markdown",
   "id": "cc0962ba-6c5d-4158-ab56-eb64c29618c2",
   "metadata": {},
   "source": [
    "Understanding LSTM Networks: https://colah.github.io/posts/2015-08-Understanding-LSTMs/\n",
    "\n",
    "Illustrated Guide to LSTM’s and GRU’s: A step by step explanation: https://towardsdatascience.com/illustrated-guide-to-lstms-and-gru-s-a-step-by-step-explanation-44e9eb85bf21\n",
    "\n",
    "![LSTM](https://www.researchgate.net/publication/335524542/figure/fig11/AS:798002683842580@1567270074253/Mozilla-DeepSpeech-forward-LSTM-chain-this-should-the-only-used-part-after-mozillas.ppm)"
   ]
  },
  {
   "cell_type": "code",
   "execution_count": 34,
   "id": "82dac0bd-69f4-42dc-a1fc-e1f5a195a059",
   "metadata": {},
   "outputs": [],
   "source": [
    "tf.random.set_seed(221)\n",
    "from keras.models import Model, Input\n",
    "from keras.layers import LSTM, Dense, TimeDistributed, Bidirectional, Masking\n",
    "from tensorflow.keras import layers"
   ]
  },
  {
   "cell_type": "code",
   "execution_count": 35,
   "id": "e6a03665-8ef0-415c-9dd2-c3e3152a4e65",
   "metadata": {},
   "outputs": [
    {
     "name": "stdout",
     "output_type": "stream",
     "text": [
      "Model: \"model\"\n",
      "_________________________________________________________________\n",
      " Layer (type)                Output Shape              Param #   \n",
      "=================================================================\n",
      " input_1 (InputLayer)        [(None, 48, 100)]         0         \n",
      "                                                                 \n",
      " masking (Masking)           (None, 48, 100)           0         \n",
      "                                                                 \n",
      " bidirectional (Bidirectiona  (None, 8)                3360      \n",
      " l)                                                              \n",
      "                                                                 \n",
      " dense (Dense)               (None, 2)                 18        \n",
      "                                                                 \n",
      "=================================================================\n",
      "Total params: 3,378\n",
      "Trainable params: 3,378\n",
      "Non-trainable params: 0\n",
      "_________________________________________________________________\n"
     ]
    }
   ],
   "source": [
    "'''model input in the shape(number of words per doc, word embedding size)'''\n",
    "input_ = Input(shape=(48,100))\n",
    "\n",
    "'''mask layer to avoid model from considering padding vectors'''\n",
    "mask_layer = Masking(mask_value=0)\n",
    "mask = mask_layer(input_)\n",
    "\n",
    "'''BiLSTM layer'''\n",
    "\n",
    "lstm = Bidirectional(LSTM(units=4))(mask)\n",
    "\n",
    "'''activation layer'''\n",
    "act = Dense(2, activation='sigmoid')(lstm)\n",
    "\n",
    "'''model input and output'''\n",
    "model = Model(input_, act)\n",
    "\n",
    "'''model loss function and evaluation metrics'''\n",
    "model.compile(optimizer=\"adam\", loss=\"binary_crossentropy\", metrics=[\"binary_accuracy\"])\n",
    "model.summary()"
   ]
  },
  {
   "cell_type": "code",
   "execution_count": 36,
   "id": "8ca1400a-5b89-406e-9a12-df1d0dc3adc2",
   "metadata": {},
   "outputs": [
    {
     "data": {
      "text/plain": [
       "TensorShape([8000, 48, 100])"
      ]
     },
     "execution_count": 36,
     "metadata": {},
     "output_type": "execute_result"
    }
   ],
   "source": [
    "X.shape"
   ]
  },
  {
   "cell_type": "code",
   "execution_count": 37,
   "id": "3c71ada8-487a-44d8-ab37-9aa7e23a73a2",
   "metadata": {},
   "outputs": [
    {
     "name": "stdout",
     "output_type": "stream",
     "text": [
      "Epoch 1/20\n"
     ]
    },
    {
     "name": "stderr",
     "output_type": "stream",
     "text": [
      "2022-03-21 17:39:31.304445: I tensorflow/stream_executor/cuda/cuda_dnn.cc:368] Loaded cuDNN version 8202\n"
     ]
    },
    {
     "name": "stdout",
     "output_type": "stream",
     "text": [
      "400/400 [==============================] - 14s 32ms/step - loss: 0.6305 - binary_accuracy: 0.6377 - val_loss: 0.5506 - val_binary_accuracy: 0.7297\n",
      "Epoch 2/20\n",
      "400/400 [==============================] - 13s 32ms/step - loss: 0.5326 - binary_accuracy: 0.7337 - val_loss: 0.5064 - val_binary_accuracy: 0.7613\n",
      "Epoch 3/20\n",
      "400/400 [==============================] - 13s 32ms/step - loss: 0.4883 - binary_accuracy: 0.7666 - val_loss: 0.4828 - val_binary_accuracy: 0.7750\n",
      "Epoch 4/20\n",
      "400/400 [==============================] - 13s 32ms/step - loss: 0.4577 - binary_accuracy: 0.7859 - val_loss: 0.4710 - val_binary_accuracy: 0.7847\n",
      "Epoch 5/20\n",
      "400/400 [==============================] - 13s 32ms/step - loss: 0.4366 - binary_accuracy: 0.8020 - val_loss: 0.4588 - val_binary_accuracy: 0.7922\n",
      "Epoch 6/20\n",
      "400/400 [==============================] - 13s 32ms/step - loss: 0.4174 - binary_accuracy: 0.8134 - val_loss: 0.4567 - val_binary_accuracy: 0.7909\n",
      "Epoch 7/20\n",
      "400/400 [==============================] - 13s 32ms/step - loss: 0.4018 - binary_accuracy: 0.8231 - val_loss: 0.4496 - val_binary_accuracy: 0.7962\n",
      "Epoch 8/20\n",
      "400/400 [==============================] - 13s 32ms/step - loss: 0.3858 - binary_accuracy: 0.8303 - val_loss: 0.4688 - val_binary_accuracy: 0.7884\n",
      "Epoch 9/20\n",
      "400/400 [==============================] - 13s 32ms/step - loss: 0.3720 - binary_accuracy: 0.8363 - val_loss: 0.4513 - val_binary_accuracy: 0.7987\n",
      "Epoch 10/20\n",
      "400/400 [==============================] - 13s 32ms/step - loss: 0.3601 - binary_accuracy: 0.8445 - val_loss: 0.4565 - val_binary_accuracy: 0.7956\n",
      "Epoch 11/20\n",
      "400/400 [==============================] - 13s 33ms/step - loss: 0.3490 - binary_accuracy: 0.8487 - val_loss: 0.4550 - val_binary_accuracy: 0.7981\n",
      "Epoch 12/20\n",
      "400/400 [==============================] - 13s 32ms/step - loss: 0.3374 - binary_accuracy: 0.8546 - val_loss: 0.4687 - val_binary_accuracy: 0.7991\n",
      "Epoch 13/20\n",
      "400/400 [==============================] - 13s 32ms/step - loss: 0.3276 - binary_accuracy: 0.8630 - val_loss: 0.4610 - val_binary_accuracy: 0.7941\n",
      "Epoch 14/20\n",
      "400/400 [==============================] - 13s 32ms/step - loss: 0.3162 - binary_accuracy: 0.8674 - val_loss: 0.4632 - val_binary_accuracy: 0.7966\n",
      "Epoch 15/20\n",
      "400/400 [==============================] - 13s 32ms/step - loss: 0.3095 - binary_accuracy: 0.8726 - val_loss: 0.4667 - val_binary_accuracy: 0.7981\n",
      "Epoch 16/20\n",
      "400/400 [==============================] - 13s 32ms/step - loss: 0.2984 - binary_accuracy: 0.8781 - val_loss: 0.4665 - val_binary_accuracy: 0.7966\n",
      "Epoch 17/20\n",
      "400/400 [==============================] - 13s 33ms/step - loss: 0.2900 - binary_accuracy: 0.8802 - val_loss: 0.4759 - val_binary_accuracy: 0.7950\n",
      "Epoch 18/20\n",
      "400/400 [==============================] - 13s 32ms/step - loss: 0.2805 - binary_accuracy: 0.8871 - val_loss: 0.4842 - val_binary_accuracy: 0.7969\n",
      "Epoch 19/20\n",
      "400/400 [==============================] - 13s 32ms/step - loss: 0.2741 - binary_accuracy: 0.8863 - val_loss: 0.4914 - val_binary_accuracy: 0.7969\n",
      "Epoch 20/20\n",
      "400/400 [==============================] - 13s 32ms/step - loss: 0.2633 - binary_accuracy: 0.8965 - val_loss: 0.4912 - val_binary_accuracy: 0.7856\n"
     ]
    }
   ],
   "source": [
    "history = model.fit(X, y, batch_size=16, epochs=20, verbose=1, validation_split=0.20)"
   ]
  },
  {
   "cell_type": "code",
   "execution_count": 39,
   "id": "91542326-3bd6-4767-9a6f-a4ab69c77088",
   "metadata": {},
   "outputs": [
    {
     "data": {
      "image/png": "[encoded data removed]",
      "text/plain": [
       "<Figure size 720x432 with 1 Axes>"
      ]
     },
     "metadata": {
      "needs_background": "light"
     },
     "output_type": "display_data"
    }
   ],
   "source": [
    "import matplotlib.pyplot as plt\n",
    "plt.figure(figsize =(10, 6))\n",
    "plt.plot(history.history['binary_accuracy'])\n",
    "plt.plot(history.history['val_binary_accuracy'])\n",
    "plt.title('Model Accuracy')\n",
    "plt.ylabel('Accuracy')\n",
    "plt.xlabel('Epoch')\n",
    "plt.legend(['train', 'val'], loc='upper left')\n",
    "plt.show()"
   ]
  },
  {
   "cell_type": "markdown",
   "id": "45677e1b-239e-45d6-a176-f617d651014a",
   "metadata": {
    "tags": []
   },
   "source": [
    "## Predict"
   ]
  },
  {
   "cell_type": "code",
   "execution_count": 40,
   "id": "b2ed1811-e215-46cd-a428-174c7a1f83a9",
   "metadata": {},
   "outputs": [],
   "source": [
    "X_test_pad = pad_sequences(maxlen=48,sequences=x_test_vec, padding=\"post\", dtype='float64')"
   ]
  },
  {
   "cell_type": "code",
   "execution_count": 41,
   "id": "0da09bd4-4401-4023-a202-2866ca8db11d",
   "metadata": {},
   "outputs": [],
   "source": [
    "#x_test = np.expand_dims(x_test,-1)\n",
    "x_test = tf.convert_to_tensor(X_test_pad, dtype='float32')"
   ]
  },
  {
   "cell_type": "code",
   "execution_count": 42,
   "id": "4967ea24-2daa-45f5-be5d-395fe0b6bdc8",
   "metadata": {},
   "outputs": [
    {
     "data": {
      "text/plain": [
       "TensorShape([2000, 48, 100])"
      ]
     },
     "execution_count": 42,
     "metadata": {},
     "output_type": "execute_result"
    }
   ],
   "source": [
    "x_test.shape"
   ]
  },
  {
   "cell_type": "code",
   "execution_count": 43,
   "id": "b02a74a9-0a65-4ef9-8b77-d4d6a7efd3f9",
   "metadata": {},
   "outputs": [],
   "source": [
    "pred_y = model.predict(x_test)"
   ]
  },
  {
   "cell_type": "code",
   "execution_count": 44,
   "id": "34770757-dd48-4bb7-bc3b-cc9ed3f7354f",
   "metadata": {},
   "outputs": [
    {
     "data": {
      "text/plain": [
       "array([[0.15682222, 0.8199296 ],\n",
       "       [0.9812757 , 0.01731032],\n",
       "       [0.00370222, 0.9958187 ],\n",
       "       ...,\n",
       "       [0.0059766 , 0.9929132 ],\n",
       "       [0.91481006, 0.08032743],\n",
       "       [0.4132031 , 0.58307976]], dtype=float32)"
      ]
     },
     "execution_count": 44,
     "metadata": {},
     "output_type": "execute_result"
    }
   ],
   "source": [
    "pred_y"
   ]
  },
  {
   "cell_type": "code",
   "execution_count": 45,
   "id": "1aebf2d0-ca68-4611-b740-66451eadc03e",
   "metadata": {},
   "outputs": [],
   "source": [
    "y_pred = []\n",
    "for doc in pred_y:\n",
    "    y_pred.append(np.argmax(doc, axis=None, out=None))"
   ]
  },
  {
   "cell_type": "code",
   "execution_count": 46,
   "id": "b8f50f72-4d7c-49c2-81c4-2708157710b8",
   "metadata": {},
   "outputs": [
    {
     "data": {
      "text/plain": [
       "[1, 0, 1, 1, 1, 1, 1, 1, 0, 0]"
      ]
     },
     "execution_count": 46,
     "metadata": {},
     "output_type": "execute_result"
    }
   ],
   "source": [
    "y_pred[0:10]"
   ]
  },
  {
   "cell_type": "code",
   "execution_count": 47,
   "id": "85a2ea3e-1efe-4c30-b137-8dc4e321da91",
   "metadata": {},
   "outputs": [
    {
     "data": {
      "text/plain": [
       "array([1, 0, 1, 1, 1, 0, 1, 0, 0, 0])"
      ]
     },
     "execution_count": 47,
     "metadata": {},
     "output_type": "execute_result"
    }
   ],
   "source": [
    "y_test[0:10]"
   ]
  },
  {
   "cell_type": "code",
   "execution_count": 48,
   "id": "79d6e2c4-1696-499a-857e-23ed5fcc340f",
   "metadata": {},
   "outputs": [],
   "source": [
    "#y_test = tf.one_hot(y_test, depth=2)"
   ]
  },
  {
   "cell_type": "code",
   "execution_count": 49,
   "id": "3af9cb57-43b4-4225-aa46-344c8cb1c9d4",
   "metadata": {},
   "outputs": [
    {
     "name": "stdout",
     "output_type": "stream",
     "text": [
      "              precision    recall  f1-score   support\n",
      "\n",
      "           0       0.75      0.75      0.75       814\n",
      "           1       0.83      0.82      0.83      1186\n",
      "\n",
      "    accuracy                           0.80      2000\n",
      "   macro avg       0.79      0.79      0.79      2000\n",
      "weighted avg       0.80      0.80      0.80      2000\n",
      "\n"
     ]
    }
   ],
   "source": [
    "print(classification_report(y_test, y_pred))"
   ]
  }
 ],
 "metadata": {
  "kernelspec": {
   "display_name": "Python 3 (ipykernel)",
   "language": "python",
   "name": "python3"
  },
  "language_info": {
   "codemirror_mode": {
    "name": "ipython",
    "version": 3
   },
   "file_extension": ".py",
   "mimetype": "text/x-python",
   "name": "python",
   "nbconvert_exporter": "python",
   "pygments_lexer": "ipython3",
   "version": "3.10.4"
  }
 },
 "nbformat": 4,
 "nbformat_minor": 5
}
