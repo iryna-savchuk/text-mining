{
 "cells": [
  {
   "cell_type": "code",
   "execution_count": 1,
   "id": "52911fbf",
   "metadata": {},
   "outputs": [],
   "source": [
    "# RAKE (Rapid Automatic Keyword Extraction)\n",
    "# Assumption: Keyword sequencies contain uncommon worlds that usually appear together"
   ]
  },
  {
   "cell_type": "code",
   "execution_count": 2,
   "id": "86975582",
   "metadata": {},
   "outputs": [
    {
     "name": "stderr",
     "output_type": "stream",
     "text": [
      "[nltk_data] Downloading package punkt to /Users/isavchuk/nltk_data...\n",
      "[nltk_data]   Package punkt is already up-to-date!\n"
     ]
    },
    {
     "data": {
      "text/plain": [
       "True"
      ]
     },
     "execution_count": 2,
     "metadata": {},
     "output_type": "execute_result"
    }
   ],
   "source": [
    "import pandas as pd\n",
    "import nltk\n",
    "from rake_nltk import Metric, Rake\n",
    "\n",
    "nltk.download('punkt') # nltk uses punkt to tockenize the words in English"
   ]
  },
  {
   "cell_type": "code",
   "execution_count": 3,
   "id": "38ea2f2e",
   "metadata": {},
   "outputs": [],
   "source": [
    "text_list = [\"Be yourself; everyone else is already taken.\",\n",
    "            \"A room without books is like a body without a soul.\",\n",
    "            \"Be the change that you wish to see in the world.\",\n",
    "            \"If you tell the truth, you don't need to remember anything.\",\n",
    "            \"Always forgive your enemies; nothing annoys them so much.\",\n",
    "            \"It is better to be hated for what you are than yto be loved for what you are not.\", \n",
    "            \"Live as you were to die tomorrow. Learn as you were to live forever.\",\n",
    "            \"In three words I can sum up everything I've learnt about life: it goes on.\"]"
   ]
  },
  {
   "cell_type": "code",
   "execution_count": 4,
   "id": "f2fcd2bb",
   "metadata": {},
   "outputs": [],
   "source": [
    "rake = Rake()\n",
    "\n",
    "# Extracting keywords\n",
    "rake.extract_keywords_from_sentences(text_list)"
   ]
  },
  {
   "cell_type": "code",
   "execution_count": 5,
   "id": "d8517719",
   "metadata": {},
   "outputs": [
    {
     "data": {
      "text/plain": [
       "['room without books',\n",
       " 'body without',\n",
       " 'three words',\n",
       " 'remember anything',\n",
       " 'nothing annoys',\n",
       " 'everyone else',\n",
       " 'die tomorrow',\n",
       " 'always forgive',\n",
       " 'already taken',\n",
       " 'live forever',\n",
       " 'live',\n",
       " 'yto',\n",
       " 'world',\n",
       " 'wish',\n",
       " 'truth',\n",
       " 'tell',\n",
       " 'sum',\n",
       " 'soul',\n",
       " 'see',\n",
       " 'need',\n",
       " 'much',\n",
       " 'loved',\n",
       " 'like',\n",
       " 'life',\n",
       " 'learnt',\n",
       " 'learn',\n",
       " 'hated',\n",
       " 'goes',\n",
       " 'everything',\n",
       " 'enemies',\n",
       " 'change',\n",
       " 'better']"
      ]
     },
     "execution_count": 5,
     "metadata": {},
     "output_type": "execute_result"
    }
   ],
   "source": [
    "rake.get_ranked_phrases()"
   ]
  },
  {
   "cell_type": "code",
   "execution_count": 6,
   "id": "27ef2b55",
   "metadata": {},
   "outputs": [
    {
     "data": {
      "text/plain": [
       "[(8.5, 'room without books'),\n",
       " (4.5, 'body without'),\n",
       " (4.0, 'three words'),\n",
       " (4.0, 'remember anything'),\n",
       " (4.0, 'nothing annoys'),\n",
       " (4.0, 'everyone else'),\n",
       " (4.0, 'die tomorrow'),\n",
       " (4.0, 'always forgive'),\n",
       " (4.0, 'already taken'),\n",
       " (3.5, 'live forever'),\n",
       " (1.5, 'live'),\n",
       " (1.0, 'yto'),\n",
       " (1.0, 'world'),\n",
       " (1.0, 'wish'),\n",
       " (1.0, 'truth'),\n",
       " (1.0, 'tell'),\n",
       " (1.0, 'sum'),\n",
       " (1.0, 'soul'),\n",
       " (1.0, 'see'),\n",
       " (1.0, 'need'),\n",
       " (1.0, 'much'),\n",
       " (1.0, 'loved'),\n",
       " (1.0, 'like'),\n",
       " (1.0, 'life'),\n",
       " (1.0, 'learnt'),\n",
       " (1.0, 'learn'),\n",
       " (1.0, 'hated'),\n",
       " (1.0, 'goes'),\n",
       " (1.0, 'everything'),\n",
       " (1.0, 'enemies'),\n",
       " (1.0, 'change'),\n",
       " (1.0, 'better')]"
      ]
     },
     "execution_count": 6,
     "metadata": {},
     "output_type": "execute_result"
    }
   ],
   "source": [
    "rake.get_ranked_phrases_with_scores()"
   ]
  },
  {
   "cell_type": "code",
   "execution_count": 7,
   "id": "0087e037",
   "metadata": {},
   "outputs": [
    {
     "data": {
      "text/plain": [
       "Counter({'everyone': 1,\n",
       "         'else': 1,\n",
       "         'already': 1,\n",
       "         'taken': 1,\n",
       "         'room': 1,\n",
       "         'without': 2,\n",
       "         'books': 1,\n",
       "         'like': 1,\n",
       "         'body': 1,\n",
       "         'soul': 1,\n",
       "         'change': 1,\n",
       "         'wish': 1,\n",
       "         'see': 1,\n",
       "         'world': 1,\n",
       "         'tell': 1,\n",
       "         'truth': 1,\n",
       "         'need': 1,\n",
       "         'remember': 1,\n",
       "         'anything': 1,\n",
       "         'always': 1,\n",
       "         'forgive': 1,\n",
       "         'enemies': 1,\n",
       "         'nothing': 1,\n",
       "         'annoys': 1,\n",
       "         'much': 1,\n",
       "         'better': 1,\n",
       "         'hated': 1,\n",
       "         'yto': 1,\n",
       "         'loved': 1,\n",
       "         'live': 2,\n",
       "         'die': 1,\n",
       "         'tomorrow': 1,\n",
       "         'learn': 1,\n",
       "         'forever': 1,\n",
       "         'three': 1,\n",
       "         'words': 1,\n",
       "         'sum': 1,\n",
       "         'everything': 1,\n",
       "         'learnt': 1,\n",
       "         'life': 1,\n",
       "         'goes': 1})"
      ]
     },
     "execution_count": 7,
     "metadata": {},
     "output_type": "execute_result"
    }
   ],
   "source": [
    "rake.get_word_frequency_distribution()"
   ]
  },
  {
   "cell_type": "code",
   "execution_count": 8,
   "id": "96729c19",
   "metadata": {},
   "outputs": [
    {
     "data": {
      "text/plain": [
       "defaultdict(<function rake_nltk.rake.Rake._build_word_co_occurance_graph.<locals>.<lambda>()>,\n",
       "            {'everyone': 2,\n",
       "             'else': 2,\n",
       "             'already': 2,\n",
       "             'taken': 2,\n",
       "             'room': 3,\n",
       "             'without': 5,\n",
       "             'books': 3,\n",
       "             'like': 1,\n",
       "             'body': 2,\n",
       "             'soul': 1,\n",
       "             'change': 1,\n",
       "             'wish': 1,\n",
       "             'see': 1,\n",
       "             'world': 1,\n",
       "             'tell': 1,\n",
       "             'truth': 1,\n",
       "             'need': 1,\n",
       "             'remember': 2,\n",
       "             'anything': 2,\n",
       "             'always': 2,\n",
       "             'forgive': 2,\n",
       "             'enemies': 1,\n",
       "             'nothing': 2,\n",
       "             'annoys': 2,\n",
       "             'much': 1,\n",
       "             'better': 1,\n",
       "             'hated': 1,\n",
       "             'yto': 1,\n",
       "             'loved': 1,\n",
       "             'live': 3,\n",
       "             'die': 2,\n",
       "             'tomorrow': 2,\n",
       "             'learn': 1,\n",
       "             'forever': 2,\n",
       "             'three': 2,\n",
       "             'words': 2,\n",
       "             'sum': 1,\n",
       "             'everything': 1,\n",
       "             'learnt': 1,\n",
       "             'life': 1,\n",
       "             'goes': 1})"
      ]
     },
     "execution_count": 8,
     "metadata": {},
     "output_type": "execute_result"
    }
   ],
   "source": [
    "rake.get_word_degrees() # Can be defined as the sum of the co-occurences of the word with other words in the text"
   ]
  },
  {
   "cell_type": "code",
   "execution_count": 9,
   "id": "23c931fb",
   "metadata": {},
   "outputs": [
    {
     "data": {
      "text/plain": [
       "[(4.0, 'room without books'),\n",
       " (3.0, 'live forever'),\n",
       " (3.0, 'body without'),\n",
       " (2.0, 'three words'),\n",
       " (2.0, 'remember anything'),\n",
       " (2.0, 'nothing annoys'),\n",
       " (2.0, 'live'),\n",
       " (2.0, 'everyone else'),\n",
       " (2.0, 'die tomorrow'),\n",
       " (2.0, 'always forgive'),\n",
       " (2.0, 'already taken'),\n",
       " (1.0, 'yto'),\n",
       " (1.0, 'world'),\n",
       " (1.0, 'wish'),\n",
       " (1.0, 'truth'),\n",
       " (1.0, 'tell'),\n",
       " (1.0, 'sum'),\n",
       " (1.0, 'soul'),\n",
       " (1.0, 'see'),\n",
       " (1.0, 'need'),\n",
       " (1.0, 'much'),\n",
       " (1.0, 'loved'),\n",
       " (1.0, 'like'),\n",
       " (1.0, 'life'),\n",
       " (1.0, 'learnt'),\n",
       " (1.0, 'learn'),\n",
       " (1.0, 'hated'),\n",
       " (1.0, 'goes'),\n",
       " (1.0, 'everything'),\n",
       " (1.0, 'enemies'),\n",
       " (1.0, 'change'),\n",
       " (1.0, 'better')]"
      ]
     },
     "execution_count": 9,
     "metadata": {},
     "output_type": "execute_result"
    }
   ],
   "source": [
    "# It is possible to change the default behaviour of the RAKE object\n",
    "rake= Rake(ranking_metric=Metric.WORD_FREQUENCY)\n",
    "\n",
    "rake.extract_keywords_from_sentences(text_list)\n",
    "rake.get_ranked_phrases_with_scores()"
   ]
  },
  {
   "cell_type": "code",
   "execution_count": 10,
   "id": "05501a72",
   "metadata": {},
   "outputs": [
    {
     "data": {
      "text/plain": [
       "[(11.0, 'room without books'),\n",
       " (7.0, 'body without'),\n",
       " (5.0, 'live forever'),\n",
       " (4.0, 'three words'),\n",
       " (4.0, 'remember anything'),\n",
       " (4.0, 'nothing annoys'),\n",
       " (4.0, 'everyone else'),\n",
       " (4.0, 'die tomorrow'),\n",
       " (4.0, 'always forgive'),\n",
       " (4.0, 'already taken'),\n",
       " (3.0, 'live'),\n",
       " (1.0, 'yto'),\n",
       " (1.0, 'world'),\n",
       " (1.0, 'wish'),\n",
       " (1.0, 'truth'),\n",
       " (1.0, 'tell'),\n",
       " (1.0, 'sum'),\n",
       " (1.0, 'soul'),\n",
       " (1.0, 'see'),\n",
       " (1.0, 'need'),\n",
       " (1.0, 'much'),\n",
       " (1.0, 'loved'),\n",
       " (1.0, 'like'),\n",
       " (1.0, 'life'),\n",
       " (1.0, 'learnt'),\n",
       " (1.0, 'learn'),\n",
       " (1.0, 'hated'),\n",
       " (1.0, 'goes'),\n",
       " (1.0, 'everything'),\n",
       " (1.0, 'enemies'),\n",
       " (1.0, 'change'),\n",
       " (1.0, 'better')]"
      ]
     },
     "execution_count": 10,
     "metadata": {},
     "output_type": "execute_result"
    }
   ],
   "source": [
    "rake= Rake(ranking_metric=Metric.WORD_DEGREE)\n",
    "\n",
    "rake.extract_keywords_from_sentences(text_list)\n",
    "rake.get_ranked_phrases_with_scores()"
   ]
  },
  {
   "cell_type": "code",
   "execution_count": 11,
   "id": "8898c675",
   "metadata": {},
   "outputs": [
    {
     "data": {
      "text/html": [
       "<div>\n",
       "<style scoped>\n",
       "    .dataframe tbody tr th:only-of-type {\n",
       "        vertical-align: middle;\n",
       "    }\n",
       "\n",
       "    .dataframe tbody tr th {\n",
       "        vertical-align: top;\n",
       "    }\n",
       "\n",
       "    .dataframe thead th {\n",
       "        text-align: right;\n",
       "    }\n",
       "</style>\n",
       "<table border=\"1\" class=\"dataframe\">\n",
       "  <thead>\n",
       "    <tr style=\"text-align: right;\">\n",
       "      <th></th>\n",
       "      <th>text</th>\n",
       "      <th>l1</th>\n",
       "      <th>l2</th>\n",
       "      <th>l3</th>\n",
       "    </tr>\n",
       "  </thead>\n",
       "  <tbody>\n",
       "    <tr>\n",
       "      <th>171</th>\n",
       "      <td>The 2009–10 Indonesia Super League U-21 Final ...</td>\n",
       "      <td>Event</td>\n",
       "      <td>SportsEvent</td>\n",
       "      <td>FootballMatch</td>\n",
       "    </tr>\n",
       "    <tr>\n",
       "      <th>4586</th>\n",
       "      <td>Susan Banks is a fictional character on NBC's ...</td>\n",
       "      <td>Agent</td>\n",
       "      <td>FictionalCharacter</td>\n",
       "      <td>SoapCharacter</td>\n",
       "    </tr>\n",
       "    <tr>\n",
       "      <th>827</th>\n",
       "      <td>The 2011 Central and Western District Council ...</td>\n",
       "      <td>Event</td>\n",
       "      <td>SocietalEvent</td>\n",
       "      <td>Election</td>\n",
       "    </tr>\n",
       "    <tr>\n",
       "      <th>2557</th>\n",
       "      <td>The 2015 American Athletic Conference Women's ...</td>\n",
       "      <td>Event</td>\n",
       "      <td>Tournament</td>\n",
       "      <td>SoccerTournament</td>\n",
       "    </tr>\n",
       "    <tr>\n",
       "      <th>7845</th>\n",
       "      <td>Robert L. Green (c. 1922 – 1997) was the fashi...</td>\n",
       "      <td>Agent</td>\n",
       "      <td>Artist</td>\n",
       "      <td>FashionDesigner</td>\n",
       "    </tr>\n",
       "  </tbody>\n",
       "</table>\n",
       "</div>"
      ],
      "text/plain": [
       "                                                   text     l1  \\\n",
       "171   The 2009–10 Indonesia Super League U-21 Final ...  Event   \n",
       "4586  Susan Banks is a fictional character on NBC's ...  Agent   \n",
       "827   The 2011 Central and Western District Council ...  Event   \n",
       "2557  The 2015 American Athletic Conference Women's ...  Event   \n",
       "7845  Robert L. Green (c. 1922 – 1997) was the fashi...  Agent   \n",
       "\n",
       "                      l2                l3  \n",
       "171          SportsEvent     FootballMatch  \n",
       "4586  FictionalCharacter     SoapCharacter  \n",
       "827        SocietalEvent          Election  \n",
       "2557          Tournament  SoccerTournament  \n",
       "7845              Artist   FashionDesigner  "
      ]
     },
     "execution_count": 11,
     "metadata": {},
     "output_type": "execute_result"
    }
   ],
   "source": [
    "# Let's use another dataset\n",
    "dbpedia_df = pd.read_csv('./datasets/dbpedia/DBPEDIA_train.csv')\n",
    "\n",
    "NUM_SAMPLES = 10000\n",
    "dbpedia_df = dbpedia_df.sample(NUM_SAMPLES, random_state=1000, replace=False).reset_index(drop=True)\n",
    "dbpedia_df.sample(5)"
   ]
  },
  {
   "cell_type": "code",
   "execution_count": 12,
   "id": "43901d54",
   "metadata": {},
   "outputs": [],
   "source": [
    "def get_documents_for_topic(df, label):\n",
    "    topic_df = df.loc[df['l2']==label]\n",
    "    print(topic_df.head())\n",
    "    \n",
    "    text=\"\\n\".join(topic_df['text'])\n",
    "    return text"
   ]
  },
  {
   "cell_type": "code",
   "execution_count": 13,
   "id": "27782b60",
   "metadata": {},
   "outputs": [
    {
     "name": "stdout",
     "output_type": "stream",
     "text": [
      "                                                 text     l1      l2  \\\n",
      "5   John Warren Bettis (October 24, 1924 – June 23...  Agent  Person   \n",
      "11  Aktisanes is a Nubian king who is mentioned by...  Agent  Person   \n",
      "35  Frank Wilson Pritt III was a salesperson and p...  Agent  Person   \n",
      "56  Sakyong Jamgon Mipham Rinpoche, Jampal Trinley...  Agent  Person   \n",
      "65  Isabel Dalley (born 28 November 1997) is a Jam...  Agent  Person   \n",
      "\n",
      "                l3  \n",
      "5            Judge  \n",
      "11         Monarch  \n",
      "35  BusinessPerson  \n",
      "56       Religious  \n",
      "65     BeautyQueen  \n"
     ]
    }
   ],
   "source": [
    "label_of_interest = 'Person'\n",
    "data = get_documents_for_topic(dbpedia_df, label_of_interest)"
   ]
  },
  {
   "cell_type": "code",
   "execution_count": 14,
   "id": "8f449cf1",
   "metadata": {},
   "outputs": [],
   "source": [
    "import pprint\n",
    "pp = pprint.PrettyPrinter(indent=4)\n",
    "\n",
    "def get_top_phrases(data, max_length=15):\n",
    "    r = Rake(max_length=max_length)\n",
    "    r.extract_keywords_from_text(data)\n",
    "    pp.pprint(r.get_ranked_phrases_with_scores()[:20])"
   ]
  },
  {
   "cell_type": "code",
   "execution_count": 15,
   "id": "c960fac0",
   "metadata": {},
   "outputs": [
    {
     "name": "stdout",
     "output_type": "stream",
     "text": [
      "[   (225.0, 'ព ្ រ ះ ប ា ទយស ោ វរ ្ ម ័ នទ ី ១'),\n",
      "    (196.0, 'வ ீ ரன ் ச ு ந ் தரல ி ங ் கம ்),'),\n",
      "    (154.60714285714286, 'ณ ั ฐพ ิ มล ฟาร ิ ด ้ า ว ั ลเลอร ์)'),\n",
      "    (135.5, 'क ै प ् टन अब ् ब ा स अल ी)'),\n",
      "    (116.66666666666667, 'ရ ှ င ် စန ္ ဒလင ်္ က ာ, pronounced'),\n",
      "    (   104.93008365508366,\n",
      "        'gabrielle de rochechouart de mortemart married claude leonor de damas '\n",
      "        'marquis de thianges'),\n",
      "    (104.17857142857143, 'ณ ั ฐพ ิ มล นาฏยล ั กษณ ์; rtgs'),\n",
      "    (   94.75969756140029,\n",
      "        'iga wyrwał ([ ˈiɡa ˈvɨrvaw ]; born 20 february 1989 ), also known'),\n",
      "    (   94.63257575757576,\n",
      "        'nur ibn mujahid ibn ‘ ali ibn ‘ abdullah al dhuhi suha'),\n",
      "    (   84.10000000000001,\n",
      "        'سعود الكبير بن عبد العزيز بن محمد آل سعود \\u200e\\u200e)'),\n",
      "    (81.0, 'ʃɪ ̀ ɴ sàɴda ̰ lɪ ̀ ɴgà ])'),\n",
      "    (   79.74636422806697,\n",
      "        '\\u200b[ valeʁi ʒiskaʁ destɛ ̃]; born 2 february 1926 ), also known'),\n",
      "    (79.5, 'михаи ́ л ио ́ сифович гуре ́ вич'),\n",
      "    (79.5, 'и ́ горь бори ́ сович чуба ́ йс'),\n",
      "    (79.5, 'григо ́ рий ива ́ нович петро ́ вский'),\n",
      "    (78.16666666666667, 'андре ́ й никола ́ евич илларио ́ нов'),\n",
      "    (   69.49122807017545,\n",
      "        'slum clearance .\\\\\" cara jocelyn delevingne (/ ˈkɑːrə ˌdɛləˈviːn'),\n",
      "    (66.85714285714286, 'มรกต เอมม ี่ ก ิ ตต ิ สาระ'),\n",
      "    (66.71446710135601, 'ˈbrænt fɐn ˈzəil ]; 3 june 1873 – 1 november 1956'),\n",
      "    (66.66666666666667, 'श ो न ा ल र ा वत')]\n"
     ]
    }
   ],
   "source": [
    "get_top_phrases(data)"
   ]
  },
  {
   "cell_type": "code",
   "execution_count": null,
   "id": "7af8f36b",
   "metadata": {},
   "outputs": [],
   "source": []
  }
 ],
 "metadata": {
  "kernelspec": {
   "display_name": "venv",
   "language": "python",
   "name": "venv"
  },
  "language_info": {
   "codemirror_mode": {
    "name": "ipython",
    "version": 3
   },
   "file_extension": ".py",
   "mimetype": "text/x-python",
   "name": "python",
   "nbconvert_exporter": "python",
   "pygments_lexer": "ipython3",
   "version": "3.8.9"
  }
 },
 "nbformat": 4,
 "nbformat_minor": 5
}
