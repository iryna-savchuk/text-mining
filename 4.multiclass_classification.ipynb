{
 "cells": [
  {
   "cell_type": "code",
   "execution_count": 1,
   "id": "25838d1e",
   "metadata": {},
   "outputs": [],
   "source": [
    "# Importing Libraries\n",
    "import pandas as pd\n",
    "import numpy as np\n",
    "import matplotlib as plt\n",
    "\n",
    "# Packages for text pre-processing \n",
    "from sklearn.feature_extraction.text import CountVectorizer\n",
    "from sklearn.feature_extraction.text import TfidfTransformer\n",
    "\n",
    "# Package for splitting the input data\n",
    "from sklearn.model_selection import train_test_split\n",
    "\n",
    "# Metrics to evaluate model performance\n",
    "from sklearn.metrics import accuracy_score\n",
    "from sklearn.metrics import precision_score\n",
    "from sklearn.metrics import recall_score\n",
    "from sklearn.metrics import confusion_matrix\n",
    "from sklearn.metrics import ConfusionMatrixDisplay\n",
    "\n",
    "# Packages for building an ML model\n",
    "from sklearn.pipeline import Pipeline\n",
    "from sklearn.naive_bayes import GaussianNB"
   ]
  },
  {
   "cell_type": "code",
   "execution_count": 2,
   "id": "b8d526b3",
   "metadata": {},
   "outputs": [
    {
     "data": {
      "text/html": [
       "<div>\n",
       "<style scoped>\n",
       "    .dataframe tbody tr th:only-of-type {\n",
       "        vertical-align: middle;\n",
       "    }\n",
       "\n",
       "    .dataframe tbody tr th {\n",
       "        vertical-align: top;\n",
       "    }\n",
       "\n",
       "    .dataframe thead th {\n",
       "        text-align: right;\n",
       "    }\n",
       "</style>\n",
       "<table border=\"1\" class=\"dataframe\">\n",
       "  <thead>\n",
       "    <tr style=\"text-align: right;\">\n",
       "      <th></th>\n",
       "      <th>question_text</th>\n",
       "      <th>question_topic</th>\n",
       "    </tr>\n",
       "  </thead>\n",
       "  <tbody>\n",
       "    <tr>\n",
       "      <th>950</th>\n",
       "      <td>What is the fit on the Lacoste pique polo, Ite...</td>\n",
       "      <td>Product Comparison</td>\n",
       "    </tr>\n",
       "    <tr>\n",
       "      <th>362</th>\n",
       "      <td>If I were to buy this one table lamp (3019968)...</td>\n",
       "      <td>Shipping</td>\n",
       "    </tr>\n",
       "    <tr>\n",
       "      <th>695</th>\n",
       "      <td>I was checking out the KitchenAid dishwasher (...</td>\n",
       "      <td>Product Availability</td>\n",
       "    </tr>\n",
       "    <tr>\n",
       "      <th>2948</th>\n",
       "      <td>Between the Cole Haan womens coat (Item #130YP...</td>\n",
       "      <td>Product Comparison</td>\n",
       "    </tr>\n",
       "    <tr>\n",
       "      <th>859</th>\n",
       "      <td>What pair of wireless headphones have a longer...</td>\n",
       "      <td>Product Comparison</td>\n",
       "    </tr>\n",
       "  </tbody>\n",
       "</table>\n",
       "</div>"
      ],
      "text/plain": [
       "                                          question_text        question_topic\n",
       "950   What is the fit on the Lacoste pique polo, Ite...    Product Comparison\n",
       "362   If I were to buy this one table lamp (3019968)...              Shipping\n",
       "695   I was checking out the KitchenAid dishwasher (...  Product Availability\n",
       "2948  Between the Cole Haan womens coat (Item #130YP...    Product Comparison\n",
       "859   What pair of wireless headphones have a longer...    Product Comparison"
      ]
     },
     "execution_count": 2,
     "metadata": {},
     "output_type": "execute_result"
    }
   ],
   "source": [
    "# Dataset - E-commerce customer service questions and topics\n",
    "# https://github.com/sambit9238/Machine-Learning/blob/master/question_topic.csv\n",
    "questions_df = pd.read_csv('./datasets/question_topic.csv', index_col=0)\n",
    "questions_df.sample(5)"
   ]
  },
  {
   "cell_type": "code",
   "execution_count": 3,
   "id": "599e25d0",
   "metadata": {},
   "outputs": [
    {
     "data": {
      "text/plain": [
       "(5000, 2)"
      ]
     },
     "execution_count": 3,
     "metadata": {},
     "output_type": "execute_result"
    }
   ],
   "source": [
    "questions_df.shape"
   ]
  },
  {
   "cell_type": "code",
   "execution_count": 4,
   "id": "8f601e03",
   "metadata": {},
   "outputs": [
    {
     "data": {
      "text/plain": [
       "array(['Sales/Promotions', 'Shipping', 'Product Availability',\n",
       "       'Product Specifications', 'Omnichannel', 'Product Comparison',\n",
       "       'Returns & Refunds'], dtype=object)"
      ]
     },
     "execution_count": 4,
     "metadata": {},
     "output_type": "execute_result"
    }
   ],
   "source": [
    "questions_df.question_topic.unique() # all questions are related to 7 unique topics"
   ]
  },
  {
   "cell_type": "code",
   "execution_count": 5,
   "id": "484275fe",
   "metadata": {},
   "outputs": [],
   "source": [
    "X = questions_df['question_text']\n",
    "y = questions_df['question_topic']"
   ]
  },
  {
   "cell_type": "code",
   "execution_count": 6,
   "id": "83c0d898",
   "metadata": {},
   "outputs": [
    {
     "data": {
      "text/plain": [
       "(5000, 29892)"
      ]
     },
     "execution_count": 6,
     "metadata": {},
     "output_type": "execute_result"
    }
   ],
   "source": [
    "count_vectorizer = CountVectorizer(ngram_range=(2,2))\n",
    "transformed_vector = count_vectorizer.fit_transform(X)\n",
    "transformed_vector.shape"
   ]
  },
  {
   "cell_type": "code",
   "execution_count": 7,
   "id": "99fbf38e",
   "metadata": {},
   "outputs": [
    {
     "data": {
      "text/plain": [
       "(5000, 29892)"
      ]
     },
     "execution_count": 7,
     "metadata": {},
     "output_type": "execute_result"
    }
   ],
   "source": [
    "tfidf_transformer = TfidfTransformer()\n",
    "tfidf_vector = tfidf_transformer.fit_transform(transformed_vector)\n",
    "tfidf_vector.shape"
   ]
  },
  {
   "cell_type": "code",
   "execution_count": 8,
   "id": "6cf4aff0",
   "metadata": {},
   "outputs": [
    {
     "data": {
      "text/plain": [
       "(5000, 29892)"
      ]
     },
     "execution_count": 8,
     "metadata": {},
     "output_type": "execute_result"
    }
   ],
   "source": [
    "X_dense = tfidf_vector.todense() # naive bayes requires the input be in a form of dense matrix\n",
    "X_dense.shape"
   ]
  },
  {
   "cell_type": "code",
   "execution_count": 9,
   "id": "df24b160",
   "metadata": {},
   "outputs": [
    {
     "data": {
      "text/plain": [
       "((4000, 29892), (1000, 29892))"
      ]
     },
     "execution_count": 9,
     "metadata": {},
     "output_type": "execute_result"
    }
   ],
   "source": [
    "x_train, x_test, y_train, y_test = train_test_split(X_dense, y, test_size=0.2)\n",
    "x_train.shape, x_test.shape"
   ]
  },
  {
   "cell_type": "code",
   "execution_count": 10,
   "id": "56f648a6",
   "metadata": {},
   "outputs": [],
   "source": [
    "# helper function\n",
    "def summarize_classification(y_test, y_pred, avg_method='weighted'):\n",
    "    acc = accuracy_score(y_test, y_pred, normalize=True)\n",
    "    num_acc = accuracy_score(y_test, y_pred, normalize=False)\n",
    "    precision = precision_score(y_test, y_pred, average=avg_method) \n",
    "    recall = recall_score(y_test, y_pred, average=avg_method)\n",
    "    cm = confusion_matrix(y_test, y_pred)\n",
    "    \n",
    "    print('Length of the testing data: ', len(y_test))\n",
    "    print('Accuracy count: ', num_acc)\n",
    "    print('Accuracy score: ', acc)\n",
    "    print('Precision score: ', precision)\n",
    "    print('Recall score: ', recall)\n",
    "    cm_display = ConfusionMatrixDisplay(cm).plot()"
   ]
  },
  {
   "cell_type": "code",
   "execution_count": 12,
   "id": "47207b1e",
   "metadata": {},
   "outputs": [],
   "source": [
    "clf = GaussianNB().fit(np.array(x_train), y_train)"
   ]
  },
  {
   "cell_type": "code",
   "execution_count": 13,
   "id": "c5e77a70",
   "metadata": {},
   "outputs": [
    {
     "name": "stdout",
     "output_type": "stream",
     "text": [
      "Length of the testing data:  1000\n",
      "Accuracy count:  958\n",
      "Accuracy score:  0.958\n",
      "Precision score:  0.9584418704509422\n",
      "Recall score:  0.958\n"
     ]
    },
    {
     "data": {
      "image/png": "[encoded data removed]",
      "text/plain": [
       "<Figure size 432x288 with 2 Axes>"
      ]
     },
     "metadata": {
      "needs_background": "light"
     },
     "output_type": "display_data"
    }
   ],
   "source": [
    "y_pred = clf.predict(np.array(x_test))\n",
    "summarize_classification(y_test, y_pred)"
   ]
  },
  {
   "cell_type": "code",
   "execution_count": 14,
   "id": "ad7764e1",
   "metadata": {},
   "outputs": [
    {
     "data": {
      "text/html": [
       "<div>\n",
       "<style scoped>\n",
       "    .dataframe tbody tr th:only-of-type {\n",
       "        vertical-align: middle;\n",
       "    }\n",
       "\n",
       "    .dataframe tbody tr th {\n",
       "        vertical-align: top;\n",
       "    }\n",
       "\n",
       "    .dataframe thead th {\n",
       "        text-align: right;\n",
       "    }\n",
       "</style>\n",
       "<table border=\"1\" class=\"dataframe\">\n",
       "  <thead>\n",
       "    <tr style=\"text-align: right;\">\n",
       "      <th></th>\n",
       "      <th>y_test</th>\n",
       "      <th>y_pred</th>\n",
       "    </tr>\n",
       "  </thead>\n",
       "  <tbody>\n",
       "    <tr>\n",
       "      <th>648</th>\n",
       "      <td>Product Specifications</td>\n",
       "      <td>Product Specifications</td>\n",
       "    </tr>\n",
       "    <tr>\n",
       "      <th>13</th>\n",
       "      <td>Product Availability</td>\n",
       "      <td>Product Availability</td>\n",
       "    </tr>\n",
       "    <tr>\n",
       "      <th>741</th>\n",
       "      <td>Omnichannel</td>\n",
       "      <td>Omnichannel</td>\n",
       "    </tr>\n",
       "    <tr>\n",
       "      <th>446</th>\n",
       "      <td>Omnichannel</td>\n",
       "      <td>Omnichannel</td>\n",
       "    </tr>\n",
       "    <tr>\n",
       "      <th>249</th>\n",
       "      <td>Omnichannel</td>\n",
       "      <td>Omnichannel</td>\n",
       "    </tr>\n",
       "    <tr>\n",
       "      <th>254</th>\n",
       "      <td>Shipping</td>\n",
       "      <td>Shipping</td>\n",
       "    </tr>\n",
       "    <tr>\n",
       "      <th>921</th>\n",
       "      <td>Omnichannel</td>\n",
       "      <td>Shipping</td>\n",
       "    </tr>\n",
       "    <tr>\n",
       "      <th>995</th>\n",
       "      <td>Omnichannel</td>\n",
       "      <td>Omnichannel</td>\n",
       "    </tr>\n",
       "    <tr>\n",
       "      <th>918</th>\n",
       "      <td>Product Specifications</td>\n",
       "      <td>Product Specifications</td>\n",
       "    </tr>\n",
       "    <tr>\n",
       "      <th>836</th>\n",
       "      <td>Shipping</td>\n",
       "      <td>Shipping</td>\n",
       "    </tr>\n",
       "    <tr>\n",
       "      <th>469</th>\n",
       "      <td>Sales/Promotions</td>\n",
       "      <td>Sales/Promotions</td>\n",
       "    </tr>\n",
       "    <tr>\n",
       "      <th>911</th>\n",
       "      <td>Returns &amp; Refunds</td>\n",
       "      <td>Returns &amp; Refunds</td>\n",
       "    </tr>\n",
       "    <tr>\n",
       "      <th>264</th>\n",
       "      <td>Shipping</td>\n",
       "      <td>Shipping</td>\n",
       "    </tr>\n",
       "    <tr>\n",
       "      <th>452</th>\n",
       "      <td>Returns &amp; Refunds</td>\n",
       "      <td>Returns &amp; Refunds</td>\n",
       "    </tr>\n",
       "    <tr>\n",
       "      <th>106</th>\n",
       "      <td>Shipping</td>\n",
       "      <td>Shipping</td>\n",
       "    </tr>\n",
       "  </tbody>\n",
       "</table>\n",
       "</div>"
      ],
      "text/plain": [
       "                     y_test                  y_pred\n",
       "648  Product Specifications  Product Specifications\n",
       "13     Product Availability    Product Availability\n",
       "741             Omnichannel             Omnichannel\n",
       "446             Omnichannel             Omnichannel\n",
       "249             Omnichannel             Omnichannel\n",
       "254                Shipping                Shipping\n",
       "921             Omnichannel                Shipping\n",
       "995             Omnichannel             Omnichannel\n",
       "918  Product Specifications  Product Specifications\n",
       "836                Shipping                Shipping\n",
       "469        Sales/Promotions        Sales/Promotions\n",
       "911       Returns & Refunds       Returns & Refunds\n",
       "264                Shipping                Shipping\n",
       "452       Returns & Refunds       Returns & Refunds\n",
       "106                Shipping                Shipping"
      ]
     },
     "execution_count": 14,
     "metadata": {},
     "output_type": "execute_result"
    }
   ],
   "source": [
    "pred_results = pd.DataFrame({'y_test':pd.Series(np.array(y_test)),\n",
    "                            'y_pred':pd.Series(y_pred)})\n",
    "\n",
    "pred_results.sample(15)"
   ]
  },
  {
   "cell_type": "code",
   "execution_count": null,
   "id": "19322e5b",
   "metadata": {},
   "outputs": [],
   "source": []
  }
 ],
 "metadata": {
  "kernelspec": {
   "display_name": "venv",
   "language": "python",
   "name": "venv"
  },
  "language_info": {
   "codemirror_mode": {
    "name": "ipython",
    "version": 3
   },
   "file_extension": ".py",
   "mimetype": "text/x-python",
   "name": "python",
   "nbconvert_exporter": "python",
   "pygments_lexer": "ipython3",
   "version": "3.8.9"
  }
 },
 "nbformat": 4,
 "nbformat_minor": 5
}
