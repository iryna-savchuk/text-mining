{
 "cells": [
  {
   "cell_type": "code",
   "execution_count": 1,
   "id": "25838d1e",
   "metadata": {},
   "outputs": [],
   "source": [
    "# Importing Libraries\n",
    "import pandas as pd\n",
    "import numpy as np\n",
    "import matplotlib as plt\n",
    "\n",
    "# Packages for text pre-processing \n",
    "from sklearn.feature_extraction.text import CountVectorizer\n",
    "from sklearn.feature_extraction.text import TfidfTransformer\n",
    "\n",
    "# Package for splitting the input data\n",
    "from sklearn.model_selection import train_test_split\n",
    "\n",
    "# Metrics to evaluate model performance\n",
    "from sklearn.metrics import accuracy_score\n",
    "from sklearn.metrics import precision_score\n",
    "from sklearn.metrics import recall_score\n",
    "from sklearn.metrics import confusion_matrix\n",
    "from sklearn.metrics import ConfusionMatrixDisplay\n",
    "\n",
    "# Packages for building an ML model\n",
    "from sklearn.pipeline import Pipeline\n",
    "from sklearn.naive_bayes import GaussianNB"
   ]
  },
  {
   "cell_type": "code",
   "execution_count": 2,
   "id": "b8d526b3",
   "metadata": {},
   "outputs": [
    {
     "data": {
      "text/html": [
       "<div>\n",
       "<style scoped>\n",
       "    .dataframe tbody tr th:only-of-type {\n",
       "        vertical-align: middle;\n",
       "    }\n",
       "\n",
       "    .dataframe tbody tr th {\n",
       "        vertical-align: top;\n",
       "    }\n",
       "\n",
       "    .dataframe thead th {\n",
       "        text-align: right;\n",
       "    }\n",
       "</style>\n",
       "<table border=\"1\" class=\"dataframe\">\n",
       "  <thead>\n",
       "    <tr style=\"text-align: right;\">\n",
       "      <th></th>\n",
       "      <th>question_text</th>\n",
       "      <th>question_topic</th>\n",
       "    </tr>\n",
       "  </thead>\n",
       "  <tbody>\n",
       "    <tr>\n",
       "      <th>1873</th>\n",
       "      <td>I'm not sure I want to order the Komplete Meal...</td>\n",
       "      <td>Product Comparison</td>\n",
       "    </tr>\n",
       "    <tr>\n",
       "      <th>1021</th>\n",
       "      <td>Do you have any laptops made by either HP or D...</td>\n",
       "      <td>Product Availability</td>\n",
       "    </tr>\n",
       "    <tr>\n",
       "      <th>4205</th>\n",
       "      <td>What's the difference in the dimensions of thi...</td>\n",
       "      <td>Product Comparison</td>\n",
       "    </tr>\n",
       "    <tr>\n",
       "      <th>1211</th>\n",
       "      <td>Is there any restocking fee or processing fee ...</td>\n",
       "      <td>Returns &amp; Refunds</td>\n",
       "    </tr>\n",
       "    <tr>\n",
       "      <th>3032</th>\n",
       "      <td>Could you tell me which shoes are lighter- the...</td>\n",
       "      <td>Product Comparison</td>\n",
       "    </tr>\n",
       "  </tbody>\n",
       "</table>\n",
       "</div>"
      ],
      "text/plain": [
       "                                          question_text        question_topic\n",
       "1873  I'm not sure I want to order the Komplete Meal...    Product Comparison\n",
       "1021  Do you have any laptops made by either HP or D...  Product Availability\n",
       "4205  What's the difference in the dimensions of thi...    Product Comparison\n",
       "1211  Is there any restocking fee or processing fee ...     Returns & Refunds\n",
       "3032  Could you tell me which shoes are lighter- the...    Product Comparison"
      ]
     },
     "execution_count": 2,
     "metadata": {},
     "output_type": "execute_result"
    }
   ],
   "source": [
    "# Dataset - E-commerce customer service questions and topics\n",
    "# https://github.com/sambit9238/Machine-Learning/blob/master/question_topic.csv\n",
    "questions_df = pd.read_csv('./datasets/question_topic.csv', index_col=0)\n",
    "questions_df.sample(5)"
   ]
  },
  {
   "cell_type": "code",
   "execution_count": 3,
   "id": "6fb2da4d",
   "metadata": {},
   "outputs": [
    {
     "name": "stdout",
     "output_type": "stream",
     "text": [
      "When do you think I'd receive the SKU #: 089836185259 if I order it tomorrow and it's being shipped to Oakland, CA? Do you have an overnight shipping option?\n",
      "Shipping\n"
     ]
    }
   ],
   "source": [
    "print(questions_df.question_text[100])\n",
    "print(questions_df.question_topic[100])"
   ]
  },
  {
   "cell_type": "code",
   "execution_count": 4,
   "id": "599e25d0",
   "metadata": {},
   "outputs": [
    {
     "data": {
      "text/plain": [
       "(5000, 2)"
      ]
     },
     "execution_count": 4,
     "metadata": {},
     "output_type": "execute_result"
    }
   ],
   "source": [
    "questions_df.shape"
   ]
  },
  {
   "cell_type": "code",
   "execution_count": 5,
   "id": "8f601e03",
   "metadata": {},
   "outputs": [
    {
     "data": {
      "text/plain": [
       "array(['Sales/Promotions', 'Shipping', 'Product Availability',\n",
       "       'Product Specifications', 'Omnichannel', 'Product Comparison',\n",
       "       'Returns & Refunds'], dtype=object)"
      ]
     },
     "execution_count": 5,
     "metadata": {},
     "output_type": "execute_result"
    }
   ],
   "source": [
    "questions_df.question_topic.unique() # all questions are related to 7 unique topics"
   ]
  },
  {
   "cell_type": "code",
   "execution_count": 6,
   "id": "ed04a561",
   "metadata": {},
   "outputs": [
    {
     "data": {
      "text/plain": [
       "Product Specifications    839\n",
       "Product Availability      833\n",
       "Product Comparison        806\n",
       "Shipping                  799\n",
       "Returns & Refunds         768\n",
       "Sales/Promotions          505\n",
       "Omnichannel               450\n",
       "Name: question_topic, dtype: int64"
      ]
     },
     "execution_count": 6,
     "metadata": {},
     "output_type": "execute_result"
    }
   ],
   "source": [
    "questions_df['question_topic'].value_counts()"
   ]
  },
  {
   "cell_type": "code",
   "execution_count": 7,
   "id": "484275fe",
   "metadata": {},
   "outputs": [],
   "source": [
    "X = questions_df['question_text']\n",
    "y = questions_df['question_topic']"
   ]
  },
  {
   "cell_type": "code",
   "execution_count": 8,
   "id": "83c0d898",
   "metadata": {},
   "outputs": [
    {
     "data": {
      "text/plain": [
       "(5000, 29892)"
      ]
     },
     "execution_count": 8,
     "metadata": {},
     "output_type": "execute_result"
    }
   ],
   "source": [
    "count_vectorizer = CountVectorizer(ngram_range=(2,2))\n",
    "transformed_vector = count_vectorizer.fit_transform(X)\n",
    "transformed_vector.shape"
   ]
  },
  {
   "cell_type": "code",
   "execution_count": 9,
   "id": "99fbf38e",
   "metadata": {},
   "outputs": [
    {
     "data": {
      "text/plain": [
       "(5000, 29892)"
      ]
     },
     "execution_count": 9,
     "metadata": {},
     "output_type": "execute_result"
    }
   ],
   "source": [
    "tfidf_transformer = TfidfTransformer()\n",
    "tfidf_vector = tfidf_transformer.fit_transform(transformed_vector)\n",
    "tfidf_vector.shape"
   ]
  },
  {
   "cell_type": "code",
   "execution_count": 92,
   "id": "a72848cb",
   "metadata": {},
   "outputs": [
    {
     "name": "stdout",
     "output_type": "stream",
     "text": [
      "  (0, 29738)\t0.2303985524612963\n",
      "  (0, 28035)\t0.13266554675673636\n",
      "  (0, 27286)\t0.10117945692047296\n",
      "  (0, 21934)\t0.13582851989218203\n",
      "  (0, 21840)\t0.23583585694492787\n",
      "  (0, 21417)\t0.2011476652439135\n",
      "  (0, 21091)\t0.23583585694492787\n",
      "  (0, 20426)\t0.23583585694492787\n",
      "  (0, 19870)\t0.23583585694492787\n",
      "  (0, 18216)\t0.23583585694492787\n",
      "  (0, 14902)\t0.23583585694492787\n",
      "  (0, 12510)\t0.14232723921225174\n",
      "  (0, 12306)\t0.23583585694492787\n",
      "  (0, 11977)\t0.16172945775721478\n",
      "  (0, 11535)\t0.24249057980595187\n",
      "  (0, 10569)\t0.2303985524612963\n",
      "  (0, 10168)\t0.1513420434342682\n",
      "  (0, 10112)\t0.21516439966390868\n",
      "  (0, 9345)\t0.23583585694492787\n",
      "  (0, 9146)\t0.23583585694492787\n",
      "  (0, 9136)\t0.20972709518027713\n",
      "  (0, 6978)\t0.21830652511664078\n",
      "  (0, 6328)\t0.2011476652439135\n",
      "  (1, 28842)\t0.14030114298258498\n",
      "  (1, 28724)\t0.1472371420783196\n",
      "  :\t:\n",
      "  (4999, 28480)\t0.08125477889722638\n",
      "  (4999, 27202)\t0.10251382991590834\n",
      "  (4999, 26164)\t0.18512573275219965\n",
      "  (4999, 24372)\t0.20563401047264745\n",
      "  (4999, 19887)\t0.22316357663728592\n",
      "  (4999, 18427)\t0.08891845174759412\n",
      "  (4999, 13379)\t0.22316357663728592\n",
      "  (4999, 13195)\t0.22316357663728592\n",
      "  (4999, 12598)\t0.17582603992451395\n",
      "  (4999, 10181)\t0.22316357663728592\n",
      "  (4999, 10022)\t0.20563401047264745\n",
      "  (4999, 9109)\t0.20563401047264745\n",
      "  (4999, 9078)\t0.11720796999684013\n",
      "  (4999, 8385)\t0.22316357663728592\n",
      "  (4999, 8381)\t0.22316357663728592\n",
      "  (4999, 7558)\t0.20563401047264745\n",
      "  (4999, 6973)\t0.22316357663728592\n",
      "  (4999, 6968)\t0.22316357663728592\n",
      "  (4999, 6122)\t0.18810444430800896\n",
      "  (4999, 6052)\t0.09046729189428884\n",
      "  (4999, 5155)\t0.19537987161242354\n",
      "  (4999, 4236)\t0.10799685805892732\n",
      "  (4999, 3028)\t0.22316357663728592\n",
      "  (4999, 2268)\t0.22316357663728592\n",
      "  (4999, 1479)\t0.22316357663728592\n"
     ]
    }
   ],
   "source": [
    "print(tfidf_vector)"
   ]
  },
  {
   "cell_type": "code",
   "execution_count": 10,
   "id": "6cf4aff0",
   "metadata": {},
   "outputs": [
    {
     "data": {
      "text/plain": [
       "(5000, 29892)"
      ]
     },
     "execution_count": 10,
     "metadata": {},
     "output_type": "execute_result"
    }
   ],
   "source": [
    "X_dense = tfidf_vector.todense() # naive bayes requires the input be in a form of dense matrix\n",
    "X_dense.shape"
   ]
  },
  {
   "cell_type": "code",
   "execution_count": 11,
   "id": "df24b160",
   "metadata": {},
   "outputs": [
    {
     "data": {
      "text/plain": [
       "((4000, 29892), (1000, 29892))"
      ]
     },
     "execution_count": 11,
     "metadata": {},
     "output_type": "execute_result"
    }
   ],
   "source": [
    "x_train, x_test, y_train, y_test = train_test_split(X_dense, y, test_size=0.2)\n",
    "x_train.shape, x_test.shape"
   ]
  },
  {
   "cell_type": "code",
   "execution_count": 12,
   "id": "56f648a6",
   "metadata": {},
   "outputs": [],
   "source": [
    "# helper function\n",
    "def summarize_classification(y_test, y_pred, avg_method='weighted'):\n",
    "    acc = accuracy_score(y_test, y_pred, normalize=True)\n",
    "    num_acc = accuracy_score(y_test, y_pred, normalize=False)\n",
    "    precision = precision_score(y_test, y_pred, average=avg_method) \n",
    "    recall = recall_score(y_test, y_pred, average=avg_method)\n",
    "    cm = confusion_matrix(y_test, y_pred)\n",
    "    \n",
    "    print('Length of the testing data: ', len(y_test))\n",
    "    print('Accuracy count: ', num_acc)\n",
    "    print('Accuracy score: ', acc)\n",
    "    print('Precision score: ', precision)\n",
    "    print('Recall score: ', recall)\n",
    "    cm_display = ConfusionMatrixDisplay(cm).plot()"
   ]
  },
  {
   "cell_type": "code",
   "execution_count": 13,
   "id": "47207b1e",
   "metadata": {},
   "outputs": [],
   "source": [
    "clf = GaussianNB().fit(np.array(x_train), y_train)"
   ]
  },
  {
   "cell_type": "code",
   "execution_count": 14,
   "id": "c5e77a70",
   "metadata": {},
   "outputs": [
    {
     "name": "stdout",
     "output_type": "stream",
     "text": [
      "Length of the testing data:  1000\n",
      "Accuracy count:  956\n",
      "Accuracy score:  0.956\n",
      "Precision score:  0.9558991688041343\n",
      "Recall score:  0.956\n"
     ]
    },
    {
     "data": {
      "image/png": "[encoded data removed]",
      "text/plain": [
       "<Figure size 432x288 with 2 Axes>"
      ]
     },
     "metadata": {
      "needs_background": "light"
     },
     "output_type": "display_data"
    }
   ],
   "source": [
    "y_pred = clf.predict(np.array(x_test))\n",
    "summarize_classification(y_test, y_pred)"
   ]
  },
  {
   "cell_type": "code",
   "execution_count": 15,
   "id": "ad7764e1",
   "metadata": {},
   "outputs": [
    {
     "data": {
      "text/html": [
       "<div>\n",
       "<style scoped>\n",
       "    .dataframe tbody tr th:only-of-type {\n",
       "        vertical-align: middle;\n",
       "    }\n",
       "\n",
       "    .dataframe tbody tr th {\n",
       "        vertical-align: top;\n",
       "    }\n",
       "\n",
       "    .dataframe thead th {\n",
       "        text-align: right;\n",
       "    }\n",
       "</style>\n",
       "<table border=\"1\" class=\"dataframe\">\n",
       "  <thead>\n",
       "    <tr style=\"text-align: right;\">\n",
       "      <th></th>\n",
       "      <th>y_test</th>\n",
       "      <th>y_pred</th>\n",
       "    </tr>\n",
       "  </thead>\n",
       "  <tbody>\n",
       "    <tr>\n",
       "      <th>607</th>\n",
       "      <td>Product Comparison</td>\n",
       "      <td>Product Comparison</td>\n",
       "    </tr>\n",
       "    <tr>\n",
       "      <th>525</th>\n",
       "      <td>Product Availability</td>\n",
       "      <td>Product Availability</td>\n",
       "    </tr>\n",
       "    <tr>\n",
       "      <th>866</th>\n",
       "      <td>Omnichannel</td>\n",
       "      <td>Omnichannel</td>\n",
       "    </tr>\n",
       "    <tr>\n",
       "      <th>23</th>\n",
       "      <td>Returns &amp; Refunds</td>\n",
       "      <td>Returns &amp; Refunds</td>\n",
       "    </tr>\n",
       "    <tr>\n",
       "      <th>666</th>\n",
       "      <td>Sales/Promotions</td>\n",
       "      <td>Sales/Promotions</td>\n",
       "    </tr>\n",
       "    <tr>\n",
       "      <th>771</th>\n",
       "      <td>Product Availability</td>\n",
       "      <td>Product Availability</td>\n",
       "    </tr>\n",
       "    <tr>\n",
       "      <th>731</th>\n",
       "      <td>Product Specifications</td>\n",
       "      <td>Product Specifications</td>\n",
       "    </tr>\n",
       "    <tr>\n",
       "      <th>308</th>\n",
       "      <td>Returns &amp; Refunds</td>\n",
       "      <td>Returns &amp; Refunds</td>\n",
       "    </tr>\n",
       "    <tr>\n",
       "      <th>959</th>\n",
       "      <td>Product Specifications</td>\n",
       "      <td>Product Specifications</td>\n",
       "    </tr>\n",
       "    <tr>\n",
       "      <th>549</th>\n",
       "      <td>Product Comparison</td>\n",
       "      <td>Product Comparison</td>\n",
       "    </tr>\n",
       "    <tr>\n",
       "      <th>758</th>\n",
       "      <td>Product Availability</td>\n",
       "      <td>Product Availability</td>\n",
       "    </tr>\n",
       "    <tr>\n",
       "      <th>720</th>\n",
       "      <td>Shipping</td>\n",
       "      <td>Shipping</td>\n",
       "    </tr>\n",
       "    <tr>\n",
       "      <th>186</th>\n",
       "      <td>Product Comparison</td>\n",
       "      <td>Product Comparison</td>\n",
       "    </tr>\n",
       "    <tr>\n",
       "      <th>960</th>\n",
       "      <td>Product Specifications</td>\n",
       "      <td>Product Specifications</td>\n",
       "    </tr>\n",
       "    <tr>\n",
       "      <th>169</th>\n",
       "      <td>Returns &amp; Refunds</td>\n",
       "      <td>Returns &amp; Refunds</td>\n",
       "    </tr>\n",
       "  </tbody>\n",
       "</table>\n",
       "</div>"
      ],
      "text/plain": [
       "                     y_test                  y_pred\n",
       "607      Product Comparison      Product Comparison\n",
       "525    Product Availability    Product Availability\n",
       "866             Omnichannel             Omnichannel\n",
       "23        Returns & Refunds       Returns & Refunds\n",
       "666        Sales/Promotions        Sales/Promotions\n",
       "771    Product Availability    Product Availability\n",
       "731  Product Specifications  Product Specifications\n",
       "308       Returns & Refunds       Returns & Refunds\n",
       "959  Product Specifications  Product Specifications\n",
       "549      Product Comparison      Product Comparison\n",
       "758    Product Availability    Product Availability\n",
       "720                Shipping                Shipping\n",
       "186      Product Comparison      Product Comparison\n",
       "960  Product Specifications  Product Specifications\n",
       "169       Returns & Refunds       Returns & Refunds"
      ]
     },
     "execution_count": 15,
     "metadata": {},
     "output_type": "execute_result"
    }
   ],
   "source": [
    "pred_results = pd.DataFrame({'y_test':pd.Series(np.array(y_test)),\n",
    "                            'y_pred':pd.Series(y_pred)})\n",
    "\n",
    "pred_results.sample(15)"
   ]
  },
  {
   "cell_type": "code",
   "execution_count": 87,
   "id": "19322e5b",
   "metadata": {},
   "outputs": [],
   "source": [
    "new = [\"Hello! I have cancelled my order #4352 right after submission. How long will it take to get the refund?\",\n",
    "      \"Hi! I have referred my friend to your conpany. Ho to get referral bonus?\", \n",
    "      \"I am dissapoitedd with the quality of the product.\"]\n",
    "\n",
    "transformed_vector_new = count_vectorizer.transform(new)\n",
    "tfidf_vector_new = tfidf_transformer.fit_transform(transformed_vector_new)"
   ]
  },
  {
   "cell_type": "code",
   "execution_count": 88,
   "id": "4e83a567",
   "metadata": {},
   "outputs": [
    {
     "data": {
      "text/plain": [
       "(3, 29892)"
      ]
     },
     "execution_count": 88,
     "metadata": {},
     "output_type": "execute_result"
    }
   ],
   "source": [
    "tfidf_vector_new.shape"
   ]
  },
  {
   "cell_type": "code",
   "execution_count": 89,
   "id": "f56a1071",
   "metadata": {},
   "outputs": [],
   "source": [
    "new_dense = tfidf_vector_new.todense()"
   ]
  },
  {
   "cell_type": "code",
   "execution_count": 90,
   "id": "34b43109",
   "metadata": {},
   "outputs": [
    {
     "name": "stdout",
     "output_type": "stream",
     "text": [
      "['Returns & Refunds' 'Sales/Promotions' 'Product Specifications']\n"
     ]
    }
   ],
   "source": [
    "y_pred_new = clf.predict(np.array(new_dense))\n",
    "print(y_pred_new)"
   ]
  },
  {
   "cell_type": "code",
   "execution_count": null,
   "id": "a6827bfa",
   "metadata": {},
   "outputs": [],
   "source": []
  },
  {
   "cell_type": "code",
   "execution_count": null,
   "id": "ac206375",
   "metadata": {},
   "outputs": [],
   "source": []
  }
 ],
 "metadata": {
  "kernelspec": {
   "display_name": "venv",
   "language": "python",
   "name": "venv"
  },
  "language_info": {
   "codemirror_mode": {
    "name": "ipython",
    "version": 3
   },
   "file_extension": ".py",
   "mimetype": "text/x-python",
   "name": "python",
   "nbconvert_exporter": "python",
   "pygments_lexer": "ipython3",
   "version": "3.8.9"
  }
 },
 "nbformat": 4,
 "nbformat_minor": 5
}
